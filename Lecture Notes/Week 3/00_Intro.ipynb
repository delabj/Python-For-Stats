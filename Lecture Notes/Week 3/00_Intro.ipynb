{
 "cells": [
  {
   "cell_type": "markdown",
   "metadata": {},
   "source": [
    "# Introduction to Pythonic way of programming 2\n",
    "\n",
    "Previously we learnt about the **Hierarchy of Python Programs** (Mark Lutz):\n",
    "- Programs are made of modules\n",
    "- Module are made of statements \n",
    "- Statements contain expressions \n",
    "- Expressions handle Python data objects\n",
    "\n",
    "We already discussed Objects and Expressions. This week we will learn about Python Statements. \n",
    "\n",
    "Python is a procedural, statement-based language, and Python Statements are the way you tell Python what is the goal of the program.\n",
    "\n",
    "We will discuss soem of the important Python Statements:\n",
    "- print()\n",
    "- if/elif/else\n",
    "- for/else\n",
    "- while/else\n",
    "- range()\n",
    "- break\n",
    "- continue"
   ]
  }
 ],
 "metadata": {
  "kernelspec": {
   "display_name": "Python 3",
   "language": "python",
   "name": "python3"
  },
  "language_info": {
   "codemirror_mode": {
    "name": "ipython",
    "version": 3
   },
   "file_extension": ".py",
   "mimetype": "text/x-python",
   "name": "python",
   "nbconvert_exporter": "python",
   "pygments_lexer": "ipython3",
   "version": "3.7.4"
  }
 },
 "nbformat": 4,
 "nbformat_minor": 2
}
