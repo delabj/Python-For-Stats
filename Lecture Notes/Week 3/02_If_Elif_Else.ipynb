{
 "cells": [
  {
   "cell_type": "markdown",
   "metadata": {},
   "source": [
    "# If / Elif / Else Statements\n",
    "\n",
    "**Syntax of if statement**\n",
    "\n",
    "if (test expression): \n",
    "\n",
    "    (statements) #code block\n",
    "\n",
    "**Syntax of if/else statement***\n",
    "\n",
    "if (test expression): \n",
    "\n",
    "    (statements) #code block\n",
    "    \n",
    "else:\n",
    "\n",
    "    (statements) #code block\n",
    "    \n",
    "**Syntax of if/elif/else statement**\n",
    "\n",
    "if (test expression): \n",
    "\n",
    "    (statements) #code block\n",
    "    \n",
    "elif (test expression): \n",
    "\n",
    "    (statements) #code block\n",
    "    \n",
    "else:\n",
    "\n",
    "    (statements) #code block  "
   ]
  },
  {
   "cell_type": "code",
   "execution_count": 2,
   "metadata": {},
   "outputs": [
    {
     "name": "stdout",
     "output_type": "stream",
     "text": [
      "New\n"
     ]
    }
   ],
   "source": [
    "if (2>3):\n",
    "    print(\"Mathematical rules were defied!\")\n",
    "    print(\"Done\")\n",
    "print('New')"
   ]
  },
  {
   "cell_type": "code",
   "execution_count": 3,
   "metadata": {},
   "outputs": [
    {
     "name": "stdout",
     "output_type": "stream",
     "text": [
      "City\n"
     ]
    }
   ],
   "source": [
    "if(\"London\" != \"london\"):\n",
    "    print('City')"
   ]
  },
  {
   "cell_type": "code",
   "execution_count": 4,
   "metadata": {},
   "outputs": [],
   "source": [
    "if(\"London\" == \"london\"):\n",
    "    print('City')"
   ]
  },
  {
   "cell_type": "code",
   "execution_count": 5,
   "metadata": {},
   "outputs": [
    {
     "name": "stdout",
     "output_type": "stream",
     "text": [
      "Strings aren't equal to Integers.\n",
      "Done\n"
     ]
    }
   ],
   "source": [
    "x = 400\n",
    "y = 'London'\n",
    "if (x!=y):\n",
    "    print(\"Strings aren't equal to Integers.\")\n",
    "    print(\"Done\")"
   ]
  },
  {
   "cell_type": "code",
   "execution_count": 6,
   "metadata": {},
   "outputs": [
    {
     "name": "stdout",
     "output_type": "stream",
     "text": [
      "greater number is  3\n"
     ]
    }
   ],
   "source": [
    "x = 2\n",
    "y = 3\n",
    "\n",
    "if (x>y):\n",
    "    print(\"greater number is \",x) #you can separate output by comma in print statement\n",
    "else:\n",
    "    print(\"greater number is \",y)"
   ]
  },
  {
   "cell_type": "code",
   "execution_count": 7,
   "metadata": {},
   "outputs": [
    {
     "name": "stdout",
     "output_type": "stream",
     "text": [
      "x is greater than y\n"
     ]
    }
   ],
   "source": [
    "x = 100\n",
    "y = 30\n",
    "z = 50\n",
    "\n",
    "if (x>y):\n",
    "    print(\"x is greater than y\") \n",
    "elif (x>z):\n",
    "    print(\"x is greater than z\")\n",
    "else:\n",
    "    print(\"x is not greater than y or z\")"
   ]
  },
  {
   "cell_type": "code",
   "execution_count": 8,
   "metadata": {},
   "outputs": [
    {
     "name": "stdout",
     "output_type": "stream",
     "text": [
      "Too confusing!\n"
     ]
    }
   ],
   "source": [
    "x = 100\n",
    "y = 300\n",
    "z = 500\n",
    "\n",
    "if (x>y):\n",
    "    print(\"x is greater than y\") \n",
    "elif (x>z):\n",
    "    print(\"x is greater than z\")\n",
    "elif (y>z):\n",
    "    print(\"x is not greater than y or z, but y is greater than z\")\n",
    "else:\n",
    "    print(\"Too confusing!\")"
   ]
  },
  {
   "cell_type": "code",
   "execution_count": 9,
   "metadata": {},
   "outputs": [
    {
     "name": "stdout",
     "output_type": "stream",
     "text": [
      "Too confusing!\n"
     ]
    }
   ],
   "source": [
    "if (x>y): print(\"x is not greater than y\") \n",
    "elif (x>z): print(\"x is greater than z\")\n",
    "elif (y>z): print(\"x is not greater than y or z, but y is greater than z\")\n",
    "else: print(\"Too confusing!\")"
   ]
  }
 ],
 "metadata": {
  "kernelspec": {
   "display_name": "Python 3",
   "language": "python",
   "name": "python3"
  },
  "language_info": {
   "codemirror_mode": {
    "name": "ipython",
    "version": 3
   },
   "file_extension": ".py",
   "mimetype": "text/x-python",
   "name": "python",
   "nbconvert_exporter": "python",
   "pygments_lexer": "ipython3",
   "version": "3.7.4"
  }
 },
 "nbformat": 4,
 "nbformat_minor": 2
}
