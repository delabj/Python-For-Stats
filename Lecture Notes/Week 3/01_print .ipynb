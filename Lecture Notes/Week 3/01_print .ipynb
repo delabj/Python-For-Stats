{
 "cells": [
  {
   "cell_type": "markdown",
   "metadata": {},
   "source": [
    "# Print function as a Python Statement\n",
    "\n",
    "- **print** statement is probably the most used statements. \n",
    "- There are different forms and ways we can use it."
   ]
  },
  {
   "cell_type": "markdown",
   "metadata": {},
   "source": [
    "### Simple Print Statement "
   ]
  },
  {
   "cell_type": "code",
   "execution_count": 1,
   "metadata": {},
   "outputs": [
    {
     "name": "stdout",
     "output_type": "stream",
     "text": [
      "Mathematical rules were defied!\n"
     ]
    }
   ],
   "source": [
    "print(\"Mathematical rules were defied!\")"
   ]
  },
  {
   "cell_type": "markdown",
   "metadata": {},
   "source": [
    "### Print Statement with a variable value"
   ]
  },
  {
   "cell_type": "code",
   "execution_count": 2,
   "metadata": {},
   "outputs": [
    {
     "name": "stdout",
     "output_type": "stream",
     "text": [
      "greater number is Not known\n"
     ]
    }
   ],
   "source": [
    "x = 'Not known'\n",
    "print(\"greater number is\", x) "
   ]
  },
  {
   "cell_type": "markdown",
   "metadata": {},
   "source": [
    "### Using String Method 'format' \n",
    "\n",
    "The str.format() method helps us in making substitutions in the printed string. It adds the value that is passed to it to the string where the placeholder {} is."
   ]
  },
  {
   "cell_type": "code",
   "execution_count": 3,
   "metadata": {},
   "outputs": [
    {
     "name": "stdout",
     "output_type": "stream",
     "text": [
      "I have 1 dog: Smokey\n"
     ]
    }
   ],
   "source": [
    "print('I have 1 dog: {}'.format('Smokey'))"
   ]
  },
  {
   "cell_type": "code",
   "execution_count": 5,
   "metadata": {},
   "outputs": [
    {
     "name": "stdout",
     "output_type": "stream",
     "text": [
      "I have Smokey 1 dog:\n"
     ]
    }
   ],
   "source": [
    "print('I have {} 1 dog:'.format('Smokey'))"
   ]
  },
  {
   "cell_type": "markdown",
   "metadata": {},
   "source": [
    "**Check what we just did.**\n",
    "\n",
    "'I have 1 dog: {}' is a string and .format is a Method of String object. We use the String Method on the fly."
   ]
  },
  {
   "cell_type": "code",
   "execution_count": null,
   "metadata": {},
   "outputs": [],
   "source": [
    "test_string = 'I have 1 dog: {}'\n",
    "help(test_string.format)"
   ]
  },
  {
   "cell_type": "code",
   "execution_count": 6,
   "metadata": {},
   "outputs": [
    {
     "name": "stdout",
     "output_type": "stream",
     "text": [
      "I have 2 dog: Smokey and Milo\n"
     ]
    }
   ],
   "source": [
    "# Concatenate two values using muliple placeholders \n",
    "print('I have 2 dog: {} and {}'.format('Smokey', 'Milo'))"
   ]
  },
  {
   "cell_type": "markdown",
   "metadata": {},
   "source": [
    "###  Using String Method 'format' and Keyword arguments\n",
    "We can pass values using keywords and that allows us reordering "
   ]
  },
  {
   "cell_type": "code",
   "execution_count": 7,
   "metadata": {},
   "outputs": [
    {
     "name": "stdout",
     "output_type": "stream",
     "text": [
      "I have 2 dog: Smokey and Milo\n"
     ]
    }
   ],
   "source": [
    "print('I have 2 dog: {a} and {b}'.format(a='Smokey', b='Milo'))"
   ]
  },
  {
   "cell_type": "code",
   "execution_count": 8,
   "metadata": {},
   "outputs": [
    {
     "name": "stdout",
     "output_type": "stream",
     "text": [
      "I have 2 dog: Milo and Smokey\n"
     ]
    }
   ],
   "source": [
    "print('I have 2 dog: {b} and {a}'.format(a='Smokey', b='Milo'))"
   ]
  },
  {
   "cell_type": "code",
   "execution_count": 9,
   "metadata": {},
   "outputs": [
    {
     "name": "stdout",
     "output_type": "stream",
     "text": [
      "The two prime numbers are: 2 and 3\n"
     ]
    }
   ],
   "source": [
    "print('The two prime numbers are: {a} and {b}'.format(a=2, b=3))"
   ]
  },
  {
   "cell_type": "markdown",
   "metadata": {},
   "source": [
    "### Changing the display of decimals a.k.a. Rounding"
   ]
  },
  {
   "cell_type": "code",
   "execution_count": 10,
   "metadata": {},
   "outputs": [
    {
     "data": {
      "text/plain": [
       "11.764705882352942"
      ]
     },
     "execution_count": 10,
     "metadata": {},
     "output_type": "execute_result"
    }
   ],
   "source": [
    "answer = 400/34\n",
    "answer "
   ]
  },
  {
   "cell_type": "code",
   "execution_count": 11,
   "metadata": {},
   "outputs": [
    {
     "name": "stdout",
     "output_type": "stream",
     "text": [
      "Answer of 400/34 is 11.764705882352942\n"
     ]
    }
   ],
   "source": [
    "print('Answer of 400/34 is {}'.format(answer))"
   ]
  },
  {
   "cell_type": "code",
   "execution_count": 12,
   "metadata": {},
   "outputs": [
    {
     "name": "stdout",
     "output_type": "stream",
     "text": [
      "Answer of 400/34 is 11.7647\n"
     ]
    }
   ],
   "source": [
    "print('Answer of 400/34 is {:0.4f}'.format(answer))"
   ]
  },
  {
   "cell_type": "code",
   "execution_count": 13,
   "metadata": {},
   "outputs": [
    {
     "name": "stdout",
     "output_type": "stream",
     "text": [
      "11.7647\n"
     ]
    }
   ],
   "source": [
    "print('{:0.4f}'.format(answer))"
   ]
  },
  {
   "cell_type": "code",
   "execution_count": 15,
   "metadata": {},
   "outputs": [
    {
     "name": "stdout",
     "output_type": "stream",
     "text": [
      "Answer of 400/34 is              11.7647\n"
     ]
    }
   ],
   "source": [
    "print('Answer of 400/34 is {:20.4f}'.format(answer))"
   ]
  },
  {
   "cell_type": "code",
   "execution_count": 14,
   "metadata": {},
   "outputs": [
    {
     "name": "stdout",
     "output_type": "stream",
     "text": [
      "Answer of 400/34 is 11.764706\n"
     ]
    }
   ],
   "source": [
    "print('Answer of 400/34 is {:0.6f}'.format(answer))"
   ]
  },
  {
   "cell_type": "markdown",
   "metadata": {},
   "source": [
    "### Using Newline operator "
   ]
  },
  {
   "cell_type": "code",
   "execution_count": 16,
   "metadata": {},
   "outputs": [
    {
     "name": "stdout",
     "output_type": "stream",
     "text": [
      "Line one. \n",
      "Line Two.\n"
     ]
    }
   ],
   "source": [
    "print('Line one. \\nLine Two.')"
   ]
  },
  {
   "cell_type": "code",
   "execution_count": null,
   "metadata": {},
   "outputs": [],
   "source": []
  }
 ],
 "metadata": {
  "kernelspec": {
   "display_name": "Python 3",
   "language": "python",
   "name": "python3"
  },
  "language_info": {
   "codemirror_mode": {
    "name": "ipython",
    "version": 3
   },
   "file_extension": ".py",
   "mimetype": "text/x-python",
   "name": "python",
   "nbconvert_exporter": "python",
   "pygments_lexer": "ipython3",
   "version": "3.7.4"
  }
 },
 "nbformat": 4,
 "nbformat_minor": 2
}
