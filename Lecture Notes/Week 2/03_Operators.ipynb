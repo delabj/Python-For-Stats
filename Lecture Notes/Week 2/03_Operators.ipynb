{
 "cells": [
  {
   "cell_type": "markdown",
   "metadata": {},
   "source": [
    "# Operators and Mathetmatical functions\n",
    "\n",
    "## 1. Mathematical operators: \n",
    "    - +, -, *, \n",
    "    - / Division\n",
    "    - % Remainder\n",
    "    - ** Power \n",
    "    \n",
    "**Mathematical operators may act differently based on the object type.** For example '-' subtraction for 'int' but difference for 'set' "
   ]
  },
  {
   "cell_type": "code",
   "execution_count": null,
   "metadata": {},
   "outputs": [],
   "source": [
    "sq_val1 = 4**2\n",
    "sq_val1"
   ]
  },
  {
   "cell_type": "markdown",
   "metadata": {},
   "source": [
    "## 2. Built-in mathematical functions: \n",
    "    - pow(), abs(), round()"
   ]
  },
  {
   "cell_type": "code",
   "execution_count": null,
   "metadata": {},
   "outputs": [],
   "source": [
    "sq_val2 = pow(4, 2) #pow(x, y) function takes two arguments x = number whose power is to be valculated and y = value raised to compute power \n",
    "sq_val2"
   ]
  },
  {
   "cell_type": "markdown",
   "metadata": {},
   "source": [
    "## 3. Comparison Operators \n",
    "    - == Returns true if two operands are equal\n",
    "    - != Returns true if two operands are not equal\n",
    "    - '>' Returns true if left operand is greater than right operand\n",
    "    - < Returns true if left operand is less than right operand\n",
    "    - '>=' Returns true if left operand is greater than or equal to right operand\n",
    "    - <= Returns true if left operand is less than or equal to right operand\n",
    "    \n",
    "**Comparison operators can be used for numbers, any object type, variable names or even comparing one of these to other.**"
   ]
  },
  {
   "cell_type": "code",
   "execution_count": null,
   "metadata": {},
   "outputs": [],
   "source": [
    "2<3 # can be used on numbers"
   ]
  },
  {
   "cell_type": "code",
   "execution_count": null,
   "metadata": {},
   "outputs": [],
   "source": [
    "'London' == 'london' #can be used for strings - remember Python is case sensitive "
   ]
  },
  {
   "cell_type": "code",
   "execution_count": null,
   "metadata": {},
   "outputs": [],
   "source": [
    "67 != '67' #compare different object types"
   ]
  },
  {
   "cell_type": "code",
   "execution_count": null,
   "metadata": {},
   "outputs": [],
   "source": [
    "x = 4 \n",
    "y = 5\n",
    "x >= y # can be used on variable names"
   ]
  },
  {
   "cell_type": "markdown",
   "metadata": {},
   "source": [
    "## 4. Chaining Comparison operators \n",
    "Python allows to perform mulitple comparison together "
   ]
  },
  {
   "cell_type": "code",
   "execution_count": null,
   "metadata": {},
   "outputs": [],
   "source": [
    "a = 4\n",
    "b = 5\n",
    "c = 10\n",
    "a < b < c # whether b is between a and c"
   ]
  },
  {
   "cell_type": "markdown",
   "metadata": {},
   "source": [
    "## 5. Logical Operators \n",
    "We can do the above chaining using logical operators (I personally like using logical operators more more readable) \n",
    "    - and Returns true if both conditions on left and right are true\n",
    "    - or Returns true if either condition on left or right is true\n",
    "    - not Returns the opposite of the condition passed"
   ]
  },
  {
   "cell_type": "code",
   "execution_count": null,
   "metadata": {},
   "outputs": [],
   "source": [
    "a < b and b < c #equivalent the above chaining \n",
    "#compares (True and True) returns True"
   ]
  },
  {
   "cell_type": "code",
   "execution_count": null,
   "metadata": {},
   "outputs": [],
   "source": [
    "a > b and b < c #return True as condition on the left is True\n",
    "#compares (False and True) returns False"
   ]
  },
  {
   "cell_type": "code",
   "execution_count": null,
   "metadata": {},
   "outputs": [],
   "source": [
    "a > b or b < c #return True as condition on the left is True\n",
    "#compares (False or True) return True"
   ]
  },
  {
   "cell_type": "code",
   "execution_count": null,
   "metadata": {},
   "outputs": [],
   "source": [
    "not a>b "
   ]
  },
  {
   "cell_type": "markdown",
   "metadata": {},
   "source": [
    "# Creating Python Expressions\n",
    "\n",
    "While learning about assignbments and operators we learned about Expressions, the Second Building Block.\n",
    "\n",
    "Expressions handles and process Python data objects. They involve operators and may involve assignment. For example:\n",
    "1. a = 'Monday'\n",
    "2. 2 > 4 and 5 > 6 \n",
    "\n"
   ]
  },
  {
   "cell_type": "code",
   "execution_count": null,
   "metadata": {},
   "outputs": [],
   "source": []
  }
 ],
 "metadata": {
  "kernelspec": {
   "display_name": "Python 3",
   "language": "python",
   "name": "python3"
  },
  "language_info": {
   "codemirror_mode": {
    "name": "ipython",
    "version": 3
   },
   "file_extension": ".py",
   "mimetype": "text/x-python",
   "name": "python",
   "nbconvert_exporter": "python",
   "pygments_lexer": "ipython3",
   "version": "3.7.4"
  }
 },
 "nbformat": 4,
 "nbformat_minor": 2
}
