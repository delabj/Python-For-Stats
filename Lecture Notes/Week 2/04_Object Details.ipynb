{
 "cells": [
  {
   "cell_type": "markdown",
   "metadata": {},
   "source": [
    "# Revisiting Objects "
   ]
  },
  {
   "cell_type": "markdown",
   "metadata": {},
   "source": [
    "## Object Attributes \n",
    "\n",
    "When a object is created, Python attaches some characterstics and predefined functions to it, these are call Attributes.\n",
    "\n",
    "There are two types of attribute:\n",
    "1. Data Attribute\n",
    "2. Methods"
   ]
  },
  {
   "cell_type": "markdown",
   "metadata": {},
   "source": [
    "### Data Attribute\n",
    "Data attributes are created from the information provided at the time of object creation."
   ]
  },
  {
   "cell_type": "code",
   "execution_count": null,
   "metadata": {},
   "outputs": [],
   "source": [
    "complex_num = 3+4j #create a complex number object, here we passed real=3 and imaginary=4\n",
    "complex_num.real # extracting Data Attribute 'real' of the object type Complex. This returns the real part of the complex numbers."
   ]
  },
  {
   "cell_type": "code",
   "execution_count": null,
   "metadata": {},
   "outputs": [],
   "source": [
    "complex_num.imag # extracting Data Attribute 'imag' of the object type Complex.  This returns the imaginary part of the complex numbers"
   ]
  },
  {
   "cell_type": "markdown",
   "metadata": {},
   "source": [
    "### Methods\n",
    "Methods are predefined functions that belong or are attached to an object. "
   ]
  },
  {
   "cell_type": "code",
   "execution_count": null,
   "metadata": {},
   "outputs": [],
   "source": [
    "month = 'february' # create a string object and referene it as 'month'\n",
    "month.capitalize() # call Method - capitalize() of the object type String. This functions capitalizes the first word "
   ]
  },
  {
   "cell_type": "code",
   "execution_count": null,
   "metadata": {},
   "outputs": [],
   "source": [
    "number = -45.9 # create a Float object and reference it as 'number'\n",
    "number.is_integer() # call Method - is_integer() of the object type Float. \n",
    "# This returns True if the float does not have a value after decimal (in other words it is finite with integral value)"
   ]
  },
  {
   "cell_type": "markdown",
   "metadata": {},
   "source": [
    "**Identifying Methods and Data Attributes**\n",
    "Methods end with parentheses, Data Attributes do not\n",
    "\n",
    "**Getting a list of Attributes associated with a variable of a given type and other details.** \n",
    "The attributes without the underscore are callable (can be called alongside the object name)."
   ]
  },
  {
   "cell_type": "code",
   "execution_count": null,
   "metadata": {
    "scrolled": true
   },
   "outputs": [],
   "source": [
    "dir(number)"
   ]
  },
  {
   "cell_type": "code",
   "execution_count": null,
   "metadata": {},
   "outputs": [],
   "source": [
    "dir(month)"
   ]
  },
  {
   "cell_type": "code",
   "execution_count": null,
   "metadata": {},
   "outputs": [],
   "source": [
    "help(month.capitalize)  # help on one specific attribute"
   ]
  },
  {
   "cell_type": "markdown",
   "metadata": {},
   "source": [
    "You can read about all the Methods available for each Object type in Python documents. These are really helpful functionalities so I strongly recoment that you search and read them.\n",
    "\n",
    "For example, \n",
    "\n",
    "For String Methods: https://docs.python.org/3.4/library/stdtypes.html#string-methods\n",
    "\n",
    "For float Methods: https://docs.python.org/3.4/library/stdtypes.html#additional-methods-on-float\n",
    "\n"
   ]
  },
  {
   "cell_type": "markdown",
   "metadata": {},
   "source": [
    "## Numeric Category \n",
    "The following objects were in this category:\n",
    "1. Integer\n",
    "2. Float\n",
    "3. Complex\n",
    "4. Boolean"
   ]
  },
  {
   "cell_type": "code",
   "execution_count": null,
   "metadata": {},
   "outputs": [],
   "source": [
    "# initializing different types of objects\n",
    "int_cat = 2\n",
    "float_cat = 4.0\n",
    "complex_cat = 5 + 6j\n",
    "boolean_cat = True "
   ]
  },
  {
   "cell_type": "code",
   "execution_count": null,
   "metadata": {},
   "outputs": [],
   "source": [
    "#Random Example \n",
    "boolean_wrong = true # see what happens \n",
    "#you get an error as true is not a predefined 'keyword'. Python treats it as a variable name and we did not assign any value to it"
   ]
  },
  {
   "cell_type": "markdown",
   "metadata": {},
   "source": [
    "## Sequence Category \n",
    "The following objects were in this category:\n",
    "1. Strings\n",
    "2. List\n",
    "3. Tuple"
   ]
  },
  {
   "cell_type": "markdown",
   "metadata": {},
   "source": [
    "### Strings \n",
    "\n",
    "Strings are **Ordered and Immutable** sequence of characters"
   ]
  },
  {
   "cell_type": "code",
   "execution_count": null,
   "metadata": {},
   "outputs": [],
   "source": [
    "s1 = 'Monday'\n",
    "s2 = 'Tuesday'"
   ]
  },
  {
   "cell_type": "markdown",
   "metadata": {},
   "source": [
    "After initializing we can do many common operations on Strings.\n",
    "- Concatenate and Repeat\n",
    "- Indexing\n",
    "- Slicing \n",
    "- Finding the length"
   ]
  },
  {
   "cell_type": "code",
   "execution_count": null,
   "metadata": {},
   "outputs": [],
   "source": [
    "s1+s2 # concatenation"
   ]
  },
  {
   "cell_type": "code",
   "execution_count": null,
   "metadata": {},
   "outputs": [],
   "source": [
    "s1+s1 # concatenate repeat"
   ]
  },
  {
   "cell_type": "code",
   "execution_count": null,
   "metadata": {},
   "outputs": [],
   "source": [
    "s1*3 # repeat three times"
   ]
  },
  {
   "cell_type": "code",
   "execution_count": null,
   "metadata": {},
   "outputs": [],
   "source": [
    "s1[1] # calling value at index 1 # Remember Python starts the counter from 0"
   ]
  },
  {
   "cell_type": "code",
   "execution_count": null,
   "metadata": {},
   "outputs": [],
   "source": [
    "s1[0] # index 0 will give you M"
   ]
  },
  {
   "cell_type": "code",
   "execution_count": null,
   "metadata": {},
   "outputs": [],
   "source": [
    "s1[0:3] #only wants first 3 characters in the string. Python will fetch values only at 0,1,2 index and not at 3. "
   ]
  },
  {
   "cell_type": "code",
   "execution_count": null,
   "metadata": {},
   "outputs": [],
   "source": [
    "len(s2) # find the length"
   ]
  },
  {
   "cell_type": "markdown",
   "metadata": {},
   "source": [
    "We can also use Methods to carry out additional functions such as the following (see documentation for entire list)\n",
    "- upper() Converts to upper case\n",
    "- rstrip() Remove white spaces at the end\n",
    "- replace() Replace as particular part in the string\n",
    "- split() Splits the series based on character such as ',' or whitespace (delimiter) given to the method"
   ]
  },
  {
   "cell_type": "code",
   "execution_count": null,
   "metadata": {},
   "outputs": [],
   "source": [
    "s2.upper()"
   ]
  },
  {
   "cell_type": "code",
   "execution_count": null,
   "metadata": {},
   "outputs": [],
   "source": [
    "s3 ='Test today ' # string has whitespace in middle and after\n",
    "s3.rstrip()"
   ]
  },
  {
   "cell_type": "code",
   "execution_count": null,
   "metadata": {},
   "outputs": [],
   "source": [
    "s2.replace('day', 'time') # replaces 'day' in string with 'time'"
   ]
  },
  {
   "cell_type": "code",
   "execution_count": null,
   "metadata": {},
   "outputs": [],
   "source": [
    "s3.split(' ') #splits the string into three parts - latsone is empty string as no information after the last whitespace"
   ]
  },
  {
   "cell_type": "markdown",
   "metadata": {},
   "source": [
    "Of course you can store the split string in another string and call parts using index."
   ]
  },
  {
   "cell_type": "code",
   "execution_count": null,
   "metadata": {},
   "outputs": [],
   "source": [
    "new_s3 = s3.split(' ')\n",
    "new_s3[0]"
   ]
  },
  {
   "cell_type": "markdown",
   "metadata": {},
   "source": [
    "### List\n",
    "\n",
    "Lists are **Ordered and Mutable** sequence of different object types. Yes! Lists can store integers, string, tuples and infact lists also. "
   ]
  },
  {
   "cell_type": "code",
   "execution_count": null,
   "metadata": {},
   "outputs": [],
   "source": [
    "# initialize a list that has strings, integer, Boolean and another list of strings and integers\n",
    "list1 = ['Monday', '20.00', 4, True, ['second', 'list', 'in', 1]] \n",
    "list1"
   ]
  },
  {
   "cell_type": "markdown",
   "metadata": {},
   "source": [
    "After initializing we can do many common operations on List (these are pretty similar to those on Strings).\n",
    "- Concatenate and Repeat\n",
    "- Indexing\n",
    "- Slicing \n",
    "- Finding the length"
   ]
  },
  {
   "cell_type": "code",
   "execution_count": null,
   "metadata": {},
   "outputs": [],
   "source": [
    "list2 = ['Python', 2.7, 'is', 'older', 'version']\n",
    "list1 + list2 #concatenate "
   ]
  },
  {
   "cell_type": "code",
   "execution_count": null,
   "metadata": {},
   "outputs": [],
   "source": [
    "list1*3 #repeat 3 times"
   ]
  },
  {
   "cell_type": "code",
   "execution_count": null,
   "metadata": {},
   "outputs": [],
   "source": [
    "list2[3] #returns the value at index 3 "
   ]
  },
  {
   "cell_type": "markdown",
   "metadata": {},
   "source": [
    "We can also use Methods to carry out additonal functions such as the following (see documentation for entire list)\n",
    "- append() Adds its argument as a single element to the end of a list\n",
    "- extend() Adds its argument as different elements to the end of the list "
   ]
  },
  {
   "cell_type": "code",
   "execution_count": null,
   "metadata": {},
   "outputs": [],
   "source": [
    "list3 = [4,5,6]\n",
    "list4 = [2.0, 6.7, 4.5]\n",
    "list3.append(list4)\n",
    "list3"
   ]
  },
  {
   "cell_type": "code",
   "execution_count": null,
   "metadata": {},
   "outputs": [],
   "source": [
    "list5 = [6,7,8]\n",
    "list4 = [2.0, 6.7, 4.5]\n",
    "list5.extend(list4)\n",
    "list5"
   ]
  },
  {
   "cell_type": "markdown",
   "metadata": {},
   "source": [
    "### Tuple\n",
    "\n",
    "Tuples are **Ordered and Immutable** sequence of different object types. \n",
    "\n",
    "Tuples are intialized by parentheses and Lists are initialized by square brackets."
   ]
  },
  {
   "cell_type": "code",
   "execution_count": null,
   "metadata": {},
   "outputs": [],
   "source": [
    "# initialize a tuple that has strings, integer, Boolean, list and another tuple\n",
    "tuple1 = ('Monday', '20.00', 4, True, ['second', 1], ('rest', 'day'))\n",
    "tuple1"
   ]
  },
  {
   "cell_type": "markdown",
   "metadata": {},
   "source": [
    "Like lists, after initializing we can do many common operations on Tuples \n",
    "- Concatenate and Repeat\n",
    "- Indexing\n",
    "- Slicing \n",
    "- Finding the length\n",
    "\n",
    "However, methods are limited in tuples."
   ]
  },
  {
   "cell_type": "markdown",
   "metadata": {},
   "source": [
    "## Mutable and Immutable Object types\n",
    "\n",
    "This is good time to visit the the concepts of Mutability and Immutability \n",
    "\n",
    "- Immutbale object types do not allow us to make changes to them once they are created\n",
    "    - Strings \n",
    "    - Tuples \n",
    "- Mutable object types do not have such restriction \n",
    "    - List "
   ]
  },
  {
   "cell_type": "code",
   "execution_count": null,
   "metadata": {},
   "outputs": [],
   "source": [
    "s6 = 'Python'\n",
    "s6[0] = 'T' # you should get an error as you cannot reassign an item - cannot change the contents "
   ]
  },
  {
   "cell_type": "code",
   "execution_count": null,
   "metadata": {},
   "outputs": [],
   "source": [
    "list6 = ['Python', 3.0]\n",
    "list6[0] = 'Pythonic' # this works\n",
    "list6"
   ]
  },
  {
   "cell_type": "code",
   "execution_count": null,
   "metadata": {},
   "outputs": [],
   "source": [
    "tuple2 = ('Tuesday', 'January')\n",
    "tuple2[0] = ('December')  # you should get an error as you cannot reassign an item - cannot change the contents "
   ]
  },
  {
   "cell_type": "markdown",
   "metadata": {},
   "source": [
    "## Dictionary \n",
    "\n",
    "- Dictionaries are unordered collection of different objects in a structure of Key:Value Pairs\n",
    "- Methods keys() and values() returns the keys and the values respectively\n",
    "- There are other methods available too, please see the documentation"
   ]
  },
  {
   "cell_type": "code",
   "execution_count": null,
   "metadata": {},
   "outputs": [],
   "source": [
    "dict1 = {'first': 'Monday', 'second':'Tuesday'}"
   ]
  },
  {
   "cell_type": "code",
   "execution_count": null,
   "metadata": {},
   "outputs": [],
   "source": [
    "dict1.keys()"
   ]
  },
  {
   "cell_type": "code",
   "execution_count": null,
   "metadata": {},
   "outputs": [],
   "source": [
    "dict1.values()"
   ]
  },
  {
   "cell_type": "markdown",
   "metadata": {},
   "source": [
    "- The 'Values' are accessed using the 'Keys'"
   ]
  },
  {
   "cell_type": "code",
   "execution_count": null,
   "metadata": {},
   "outputs": [],
   "source": [
    "dict1['first']"
   ]
  },
  {
   "cell_type": "markdown",
   "metadata": {},
   "source": [
    "Other Objects such as **Set, Frozen Set, Files, Date and Time** etc. we will discuss as we come across them."
   ]
  }
 ],
 "metadata": {
  "kernelspec": {
   "display_name": "Python 3",
   "language": "python",
   "name": "python3"
  },
  "language_info": {
   "codemirror_mode": {
    "name": "ipython",
    "version": 3
   },
   "file_extension": ".py",
   "mimetype": "text/x-python",
   "name": "python",
   "nbconvert_exporter": "python",
   "pygments_lexer": "ipython3",
   "version": "3.7.4"
  }
 },
 "nbformat": 4,
 "nbformat_minor": 2
}
