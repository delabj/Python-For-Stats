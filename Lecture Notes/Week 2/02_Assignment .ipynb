{
 "cells": [
  {
   "cell_type": "markdown",
   "metadata": {},
   "source": [
    "# Creation of Objects and Assignment to Variable names\n",
    "\n",
    "- The objects are created and assigned to some variable names so that they can be used/called later.\n",
    "- Creation and assignment happens at the same time in Python. \n",
    "- Variable names are just a reference to an object, it does not create a new object (Saves memory)"
   ]
  },
  {
   "cell_type": "code",
   "execution_count": null,
   "metadata": {},
   "outputs": [],
   "source": [
    "#creating and assigning a string object to variable name 'days'\n",
    "days = str('Monday')\n",
    "days"
   ]
  },
  {
   "cell_type": "markdown",
   "metadata": {},
   "source": [
    "### Best Practice and Rules for Variable Names\n",
    "1. Cannot be a Python keyword such as print, type. \n",
    "2. Cannot have spaces in the name, if you wish to separate use underscore ('_') \n",
    "3. Cannot use special symbols such as !, @, #, $\n",
    "4. Best practice to have names in lowercase \n",
    "\n",
    "If you violate any naming rule you will recieve an error.\n",
    "\n",
    "Reference for **Style guide and best practices in naming variables**:\n",
    "- Naming conventions laid down in PEP 8 Style Guide (https://www.python.org/dev/peps/pep-0008/)\n",
    "- Suggestions (https://towardsdatascience.com/data-scientists-your-variable-names-are-awful-heres-how-to-fix-them-89053d2855be)"
   ]
  },
  {
   "cell_type": "markdown",
   "metadata": {},
   "source": [
    "### Dynamic typing in Python \n",
    "- This is in comparison to other Statically-typed languages such as C, C++. \n",
    "- Python allows you to create objects and assign or reassign variable names while you are typing. \n",
    "- It automatically keeps track of the object type, unlike other languages that require separate declaration code. "
   ]
  },
  {
   "cell_type": "markdown",
   "metadata": {},
   "source": [
    "### Creating and Assigning without using the Object type function\n",
    "\n",
    "As you saw earlier, if you want a value/data to take on a particular object type, you can use built-in Python function related to that object type. "
   ]
  },
  {
   "cell_type": "code",
   "execution_count": null,
   "metadata": {},
   "outputs": [],
   "source": [
    "a = int(2) # creating an integer object with value 2 and assigning it to variable name 'a'\n",
    "a"
   ]
  },
  {
   "cell_type": "markdown",
   "metadata": {},
   "source": [
    "This was for expositional purpose, Python keeps a track of object data type based on the structure of the value/data. \n",
    "\n",
    "We can always create the object using the built-in function, but for some of these commonly used object types Python automatically assigns the respective object type. \n",
    "\n",
    "**From now on, we will not explicitly use the name of the function.**"
   ]
  },
  {
   "cell_type": "code",
   "execution_count": null,
   "metadata": {},
   "outputs": [],
   "source": [
    "a = 2 #instead of a = int(2)\n",
    "a"
   ]
  },
  {
   "cell_type": "code",
   "execution_count": null,
   "metadata": {},
   "outputs": [],
   "source": [
    "b ='Monday' #instead of b = str('Monday')\n",
    "b"
   ]
  },
  {
   "cell_type": "markdown",
   "metadata": {},
   "source": [
    "**You will have to use the built-in function, if you want to force a particular object type a.k.a carry out Type Conversion.**"
   ]
  },
  {
   "cell_type": "code",
   "execution_count": null,
   "metadata": {},
   "outputs": [],
   "source": [
    "c = str(2) # want to force 2 as a string and not integer\n",
    "type(c)"
   ]
  }
 ],
 "metadata": {
  "kernelspec": {
   "display_name": "Python 3",
   "language": "python",
   "name": "python3"
  },
  "language_info": {
   "codemirror_mode": {
    "name": "ipython",
    "version": 3
   },
   "file_extension": ".py",
   "mimetype": "text/x-python",
   "name": "python",
   "nbconvert_exporter": "python",
   "pygments_lexer": "ipython3",
   "version": "3.7.4"
  }
 },
 "nbformat": 4,
 "nbformat_minor": 2
}
