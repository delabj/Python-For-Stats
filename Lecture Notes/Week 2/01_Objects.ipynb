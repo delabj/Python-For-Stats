{
 "cells": [
  {
   "cell_type": "markdown",
   "metadata": {},
   "source": [
    "# Python Data Objects\n",
    "\n",
    "\"in Python, we do **things** with **stuff**.\" - Mark Lutz\n",
    "\n",
    "- **Things** are the operations - arithmetic such as addition, subtraction or non-aritmethic such as comparison, concatenate.\n",
    "- **Stuff** are the data objects on which we perform the above operations. In a beginner's explanation, they are variables.\n",
    "\n",
    "**Python Data Objects:**  For now we will discuss the Stuff only. Python data objects can be:\n",
    "1. Built-in objects provided in Python\n",
    "2. Programmer created objects \n",
    "\n",
    "**Data Structures:** Objects are sometimes referred to as Data structures\n",
    "\n",
    "We will discuss the following objects:\n",
    "1. Numeric - Integers, Floating point, Complex, Boolean \n",
    "2. Sequence - Strings, List, Tuples\n",
    "3. Mapping - Dictionaries \n",
    "4. Others - Set, Frozen Set, File, Callable \n",
    "5. Date and Time Object Types - we will discuss these separately later \n",
    "\n",
    "**Mutable and Immutable Data Object:** \n",
    "- Immutable object types do not allow us to make changes to them once they are created\n",
    "- Mutable object types do not have such restriction \n",
    "\n",
    "Note: Review the summary table"
   ]
  },
  {
   "cell_type": "markdown",
   "metadata": {},
   "source": [
    "**Finding the Object type:** If you want to know the type of an object in Python, call the Python function **type()** writing the value/data in the parentheses."
   ]
  },
  {
   "cell_type": "code",
   "execution_count": null,
   "metadata": {},
   "outputs": [],
   "source": [
    "type(2) #should give you 'int' short for integer "
   ]
  },
  {
   "cell_type": "code",
   "execution_count": null,
   "metadata": {},
   "outputs": [],
   "source": [
    "type('Monday') #should give you 'str' short for String"
   ]
  },
  {
   "cell_type": "code",
   "execution_count": null,
   "metadata": {},
   "outputs": [],
   "source": [
    "type(3 + 5j) #should give you 'complex'"
   ]
  },
  {
   "cell_type": "markdown",
   "metadata": {},
   "source": [
    "**Setting or Converting object types:** If you want a value/data to take on a particular object type, you can use built-in Python function related to object type"
   ]
  },
  {
   "cell_type": "code",
   "execution_count": null,
   "metadata": {},
   "outputs": [],
   "source": [
    "float(2) #forcing an integer to be a float "
   ]
  },
  {
   "cell_type": "code",
   "execution_count": null,
   "metadata": {},
   "outputs": [],
   "source": [
    "complex(3, 5) #creating a complex number with real part = 3 and imaginary part = 5"
   ]
  },
  {
   "cell_type": "code",
   "execution_count": null,
   "metadata": {},
   "outputs": [],
   "source": [
    "str(2) #forcing an integer to be a string"
   ]
  },
  {
   "cell_type": "code",
   "execution_count": null,
   "metadata": {},
   "outputs": [],
   "source": [
    "dict(first='Monday', second='Tuesday', third=3) #creating a dictionary"
   ]
  },
  {
   "cell_type": "code",
   "execution_count": null,
   "metadata": {},
   "outputs": [],
   "source": [
    "open('loanapp.csv', 'r') # File object "
   ]
  }
 ],
 "metadata": {
  "kernelspec": {
   "display_name": "Python 3",
   "language": "python",
   "name": "python3"
  },
  "language_info": {
   "codemirror_mode": {
    "name": "ipython",
    "version": 3
   },
   "file_extension": ".py",
   "mimetype": "text/x-python",
   "name": "python",
   "nbconvert_exporter": "python",
   "pygments_lexer": "ipython3",
   "version": "3.7.4"
  }
 },
 "nbformat": 4,
 "nbformat_minor": 2
}
