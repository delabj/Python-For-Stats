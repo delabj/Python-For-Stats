{
 "cells": [
  {
   "cell_type": "markdown",
   "metadata": {},
   "source": [
    "# Introduction to Pythonic way of programming 3\n",
    "\n",
    "Previously we learnt about \n",
    "- Python data objects\n",
    "- Python Expression \n",
    "- Python Statements \n",
    "    - print()\n",
    "    - if/elif/else\n",
    "    - for/else\n",
    "    - while/else\n",
    "    - range()\n",
    "    - break\n",
    "    - continue\n",
    "\n",
    "In this week we will learn about:\n",
    "- Python programs \n",
    "- Functions\n",
    "- Functions in another program and Modules \n",
    "- Python Programs versus Packages\n",
    "- Methods and Functions; Data Attributes and Functions\n",
    "- Function Scope"
   ]
  },
  {
   "cell_type": "code",
   "execution_count": null,
   "metadata": {},
   "outputs": [],
   "source": []
  }
 ],
 "metadata": {
  "kernelspec": {
   "display_name": "Python 3",
   "language": "python",
   "name": "python3"
  },
  "language_info": {
   "codemirror_mode": {
    "name": "ipython",
    "version": 3
   },
   "file_extension": ".py",
   "mimetype": "text/x-python",
   "name": "python",
   "nbconvert_exporter": "python",
   "pygments_lexer": "ipython3",
   "version": "3.7.4"
  }
 },
 "nbformat": 4,
 "nbformat_minor": 2
}
