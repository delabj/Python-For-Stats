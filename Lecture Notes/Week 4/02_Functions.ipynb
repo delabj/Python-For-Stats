{
 "cells": [
  {
   "cell_type": "markdown",
   "metadata": {},
   "source": [
    "\n",
    "# Functions \n",
    "- Created by the programmer to carry out a specific function or predefined/built-in. \n",
    "- They can be as simple as calculating a sum, or a maximum\n",
    "- They are useful as these allows for Code Reusability and Modular Progamming (we will learn more about these in coming weeks) - Writing reusable code is a best practice measure in Python programming.\n",
    "\n",
    "`def function_name(argument1, argument2):`\n",
    "    \n",
    "    Doc-String\n",
    "    \n",
    "    statement\n",
    "    \n",
    "    return \n",
    "\n",
    "- A function syntax has the following components:\n",
    "    - **Function name** - following naming convention Pep8 - use small case letter, and words are separated by an underscore \n",
    "    - **Arguments** - these are the variables that will be used in the functions. They are optional. They derive their value from the parameters passed at the time of function call. \n",
    "    - **Doc String** - this is a multiline comment primarily covers three things (1) purpose of the fucntion, (2) parameter description, and (3) what function returns at the time of function call. \n",
    "    - **Statements** - The operations function carries out.\n",
    "    - **Return** - the name of the object function returns to the caller. \n",
    "    \n",
    "Having a Doc String and naming the function as per the naming convention is a part of best practice. "
   ]
  },
  {
   "cell_type": "code",
   "execution_count": 6,
   "metadata": {},
   "outputs": [
    {
     "name": "stdout",
     "output_type": "stream",
     "text": [
      "The sum of the squared variables x and y is:  61\n",
      "The sum of the squared variables m and n is:  1700\n"
     ]
    }
   ],
   "source": [
    "#Importing packages\n",
    "import numpy as np #nicknaming the package NumPy as np\n",
    "\n",
    "#Setting options \n",
    "np.set_printoptions(precision=3, suppress=True) # I want the Python console ouptut to be upto 3 decimal points\n",
    "# if you want to read more about the Numpy function 'set_printoptions()' and its parameters such as precision, \n",
    "# for more, please read the documentation \n",
    "\n",
    "# Main program \n",
    "x = 5\n",
    "y = 6\n",
    "z_sq = x**2 + y**2 #you can use pow() function also - pow(x,2)\n",
    "print('The sum of the squared variables x and y is: ', z_sq) \n",
    "\n",
    "# We can do one more\n",
    "m = 10\n",
    "n = 40\n",
    "o_sq = m**2 + n**2\n",
    "print('The sum of the squared variables m and n is: ', o_sq) "
   ]
  },
  {
   "cell_type": "markdown",
   "metadata": {},
   "source": [
    "### Writing Functions"
   ]
  },
  {
   "cell_type": "code",
   "execution_count": null,
   "metadata": {},
   "outputs": [],
   "source": [
    "#Preamble\n",
    "import numpy as np\n",
    "\n",
    "#Functions\n",
    "def calculate_sum_square(x,y):\n",
    "    z_sq = x**2 + y**2\n",
    "    return z_sq\n",
    "\n",
    "#Main Program \n",
    "results = calculate_sum_square(5,6)\n",
    "print(\"The sum square is results\", results)\n",
    "\n",
    "results1 = calculate_sum_square(10,40)\n",
    "print(\"The sum square is results\", results1)   \n",
    "results, results1"
   ]
  },
  {
   "cell_type": "markdown",
   "metadata": {},
   "source": [
    "### Function Returning Multiple Values in different variables "
   ]
  },
  {
   "cell_type": "code",
   "execution_count": null,
   "metadata": {},
   "outputs": [],
   "source": [
    "#Preamble\n",
    "import numpy as np\n",
    "\n",
    "#Functions\n",
    "def calculate_sum_square(x,y):\n",
    "    z_sq = x**2 + y**2\n",
    "    z = y**2\n",
    "    return z_sq, x**2, z\n",
    "\n",
    "#Main Program \n",
    "results, x2, y2 = calculate_sum_square(5,6)\n",
    "print(\"The sum square is results\", results)\n",
    "print(\"Square of x and y:\", x2, y2)"
   ]
  },
  {
   "cell_type": "markdown",
   "metadata": {},
   "source": [
    "### Function Returning Multiple Values in one variable as tuple "
   ]
  },
  {
   "cell_type": "code",
   "execution_count": null,
   "metadata": {},
   "outputs": [],
   "source": [
    "#Preamble\n",
    "import numpy as np\n",
    "\n",
    "#Functions\n",
    "def calculate_sum_square(x,y):\n",
    "    z_sq = x**2 + y**2\n",
    "    z = y**2\n",
    "    return z_sq, x**2, z\n",
    "\n",
    "#Main Program \n",
    "results = calculate_sum_square(5,6) #results is a tuple \n",
    "print(\"The sum square is results\", results[0])\n",
    "print(\"Square of x and y:\", results[1], results[2])\n",
    "type(results)"
   ]
  },
  {
   "cell_type": "markdown",
   "metadata": {},
   "source": [
    "### Function Returning Multiple Values in one variable as list "
   ]
  },
  {
   "cell_type": "code",
   "execution_count": null,
   "metadata": {},
   "outputs": [],
   "source": [
    "#Preamble\n",
    "import numpy as np\n",
    "\n",
    "#Functions\n",
    "def calculate_sum_square(x,y):\n",
    "    z_sq = x**2 + y**2\n",
    "    z = y**2\n",
    "    return [z_sq, x**2, z]\n",
    "\n",
    "#Main Program \n",
    "results = calculate_sum_square(5,6) #results is a list\n",
    "print(\"The sum square is results\", results[0])\n",
    "print(\"Square of x and y:\", results[1], results[2])\n",
    "type(results)"
   ]
  },
  {
   "cell_type": "markdown",
   "metadata": {},
   "source": [
    "### Function Returning Multiple Values in o"
   ]
  },
  {
   "cell_type": "code",
   "execution_count": 3,
   "metadata": {},
   "outputs": [
    {
     "name": "stdout",
     "output_type": "stream",
     "text": [
      "The sum square is results 61\n",
      "Square of x: 25\n",
      "The sum square is results 61\n",
      "Square of x and y 2500 3600\n"
     ]
    }
   ],
   "source": [
    "#Preamble\n",
    "import numpy as np\n",
    "\n",
    "#Functions\n",
    "def calculate_sum_square(x,y):\n",
    "    z_sq = x**2 + y**2\n",
    "    z = y**2\n",
    "    return z_sq, x**2, z\n",
    "\n",
    "#Main Program \n",
    "results, x2, _ = calculate_sum_square(5,6)\n",
    "print(\"The sum square is results\", results)\n",
    "print(\"Square of x:\", x2)\n",
    "\n",
    "results1, a2, b2 = calculate_sum_square(50,60)\n",
    "print(\"The sum square is results\", results)\n",
    "print(\"Square of x and y\", a2, b2)"
   ]
  },
  {
   "cell_type": "code",
   "execution_count": 5,
   "metadata": {},
   "outputs": [
    {
     "name": "stdout",
     "output_type": "stream",
     "text": [
      "The sum square is results 61\n",
      "Square of x and y: 25 36\n"
     ]
    }
   ],
   "source": [
    "#Preamble\n",
    "import numpy as np\n",
    "\n",
    "#Functions\n",
    "def calculate_sum_square(x,y):\n",
    "    z_sq = x**2 + y**2\n",
    "    z = y**2\n",
    "    return [z_sq, x**2, z]\n",
    "\n",
    "#Main Program \n",
    "a = 5\n",
    "b = 6 \n",
    "results = calculate_sum_square(a,b) #results is a list\n",
    "print(\"The sum square is results\", results[0])\n",
    "print(\"Square of x and y:\", results[1], results[2])"
   ]
  },
  {
   "cell_type": "markdown",
   "metadata": {},
   "source": [
    "**Functions are better:** This gives us a good example why functions are helpful. As you can see to calculate the sum of squares twice, earlier we had to write the whole code twice. But when we use a function we just had to call function twice and pass the arguments each time. \n",
    "\n",
    "**This may look simple here, but imagine if you have a function running for few hundred lines and you have to rewrite/copy it.**"
   ]
  }
 ],
 "metadata": {
  "kernelspec": {
   "display_name": "Python 3",
   "language": "python",
   "name": "python3"
  },
  "language_info": {
   "codemirror_mode": {
    "name": "ipython",
    "version": 3
   },
   "file_extension": ".py",
   "mimetype": "text/x-python",
   "name": "python",
   "nbconvert_exporter": "python",
   "pygments_lexer": "ipython3",
   "version": "3.7.4"
  }
 },
 "nbformat": 4,
 "nbformat_minor": 2
}
