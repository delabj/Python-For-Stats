{
 "cells": [
  {
   "cell_type": "markdown",
   "metadata": {},
   "source": [
    "## Functions in another program \n",
    "\n",
    "- To maintian readbility of the code, you may write a function in one file\n",
    "- Later **import and use** it in another program let's say Main program\n",
    "- For example, I wrote the function 'calculate_sum_square' (Let's say using Spyder) and saved it in a file - `fn_sumsq.py`\n",
    "- Imported the python file _fn_sumsq_ and use the function `calculate_square_sum` in it in my Main program\n",
    "- For this you have to use notation `fn_sumsq.calculate_square_sum()` at the time of function call"
   ]
  },
  {
   "cell_type": "markdown",
   "metadata": {},
   "source": [
    "## Modules\n",
    "\n",
    "- The file `fn_sumsq.py` is an example of a module. It is has a function `calculate_square_sum()` to calculate the sum of squares of the arguments passed. \n",
    "\n",
    "- Modules are just .py scripts\n",
    "\n",
    "- Python Programs are a collection of such Modules. \n",
    "\n",
    "- Modules makes it easier to organize the code. `import` allows us to access the module. For example `import fn_sumsq`\n",
    "\n",
    "- You can import only one function or attribute of the module by using `from fn_sumsq import calculate_square_sum`. \n",
    "\n",
    "- If a module has many function and you want to use a few functions, you can individual import them each seperated by a comma. For example, `from module_1 import function_1, function_2`"
   ]
  }
 ],
 "metadata": {
  "kernelspec": {
   "display_name": "Python 3",
   "language": "python",
   "name": "python3"
  },
  "language_info": {
   "codemirror_mode": {
    "name": "ipython",
    "version": 3
   },
   "file_extension": ".py",
   "mimetype": "text/x-python",
   "name": "python",
   "nbconvert_exporter": "python",
   "pygments_lexer": "ipython3",
   "version": "3.7.4"
  }
 },
 "nbformat": 4,
 "nbformat_minor": 2
}
