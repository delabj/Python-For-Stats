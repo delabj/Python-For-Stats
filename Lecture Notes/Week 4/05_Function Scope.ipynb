{
 "cells": [
  {
   "cell_type": "markdown",
   "metadata": {},
   "source": [
    "# Scope of Names in Python\n",
    "\n",
    "- Global scope - names created in top-level(not inside any fucntiosn in that model), and they are accessible throught the module file\n",
    "- Local scope - names created in a function\n",
    "- Built-in scope - names preassigned as built-in names\n",
    "\n",
    "Variables are only available in their defined scope."
   ]
  },
  {
   "cell_type": "code",
   "execution_count": null,
   "metadata": {},
   "outputs": [],
   "source": [
    "result = 4+5 # Global scope \n",
    "def sum_result():\n",
    "    result = 5+6 # Local Scope\n",
    "    print(\"Inside function\", result)\n",
    "    return result\n",
    "\n",
    "print(result)\n",
    "#sum_result() \n",
    "\n",
    "result1 = sum_result()\n",
    "print(result1)"
   ]
  },
  {
   "cell_type": "markdown",
   "metadata": {},
   "source": [
    "## How did Python choose which result to print?\n",
    "\n",
    "Since we used `print()` in the top-level in the module, python printed the value of the `result` in this level "
   ]
  },
  {
   "cell_type": "code",
   "execution_count": null,
   "metadata": {},
   "outputs": [],
   "source": [
    "result = 4+5 # Global scope \n",
    "def sum_result():\n",
    "    result = 5+6 # Local Scope\n",
    "    return result\n",
    "\n",
    "print(sum_result())"
   ]
  },
  {
   "cell_type": "markdown",
   "metadata": {},
   "source": [
    "Now we used print() and made a function call to `sum_result()`,  therefore were in that function. Python printed the value of the 'result' at this level.  "
   ]
  },
  {
   "cell_type": "markdown",
   "metadata": {},
   "source": [
    "## Applicable to function names too"
   ]
  },
  {
   "cell_type": "code",
   "execution_count": null,
   "metadata": {},
   "outputs": [],
   "source": [
    "result  = 4+5\n",
    "def sum_result():\n",
    "    result = 5+6 # Local Scope\n",
    "    \n",
    "    def prod_result(): #Nested function\n",
    "        result = 5*6 #local Scope\n",
    "        return result\n",
    "    \n",
    "    return result\n",
    "\n",
    "print(prod_result())"
   ]
  },
  {
   "cell_type": "markdown",
   "metadata": {},
   "source": [
    "We used print() and made a function call to `prod_result()`. But this function name is local to the function (`sum_result()`) inside which it is nested. Therefore Python was not able to find it.  \n",
    "\n",
    "This will work if we make a function call to `sum_result()`, and then from inside that function we make a call to `prod_result()`"
   ]
  },
  {
   "cell_type": "code",
   "execution_count": null,
   "metadata": {},
   "outputs": [],
   "source": [
    "## Accessing Global names inside the function "
   ]
  },
  {
   "cell_type": "code",
   "execution_count": null,
   "metadata": {},
   "outputs": [],
   "source": [
    "result  = 4+5\n",
    "def sum_result():\n",
    "    global result\n",
    "    print('Global inside local', result)\n",
    "    result = 5+6 # Local Scope\n",
    "    print(result)\n",
    "\n",
    "\n",
    "sum_result()"
   ]
  },
  {
   "cell_type": "code",
   "execution_count": null,
   "metadata": {},
   "outputs": [],
   "source": []
  }
 ],
 "metadata": {
  "kernelspec": {
   "display_name": "Python 3",
   "language": "python",
   "name": "python3"
  },
  "language_info": {
   "codemirror_mode": {
    "name": "ipython",
    "version": 3
   },
   "file_extension": ".py",
   "mimetype": "text/x-python",
   "name": "python",
   "nbconvert_exporter": "python",
   "pygments_lexer": "ipython3",
   "version": "3.7.4"
  }
 },
 "nbformat": 4,
 "nbformat_minor": 2
}
