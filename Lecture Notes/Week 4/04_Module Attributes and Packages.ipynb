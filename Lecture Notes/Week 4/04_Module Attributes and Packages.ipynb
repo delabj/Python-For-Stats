{
 "cells": [
  {
   "cell_type": "markdown",
   "metadata": {},
   "source": [
    "## Modules and Attributes \n",
    "\n",
    "\n",
    "- `calculate_square_sum()` is a **attribute** of the module `fn_sumsq.py`. \n",
    "\n",
    "- To be specific since it is a function it is a **Method** of the module. \n",
    "\n",
    "- We can have a **data attribute** too. "
   ]
  },
  {
   "cell_type": "markdown",
   "metadata": {},
   "source": [
    "### Example\n",
    "\n",
    "- string object - name='Jack'\n",
    "\n",
    "dir(name) # list of attributes\n",
    "\n",
    "name.<data attribute>\n",
    "\n",
    "name.<method> - name.isupper() \n",
    "    \n",
    "    \n",
    "- module - fn_sum_sq\n",
    "\n",
    "fn_sum_sq.a #data attribute of the module\n",
    "\n",
    "fn_sum_sq.calculate_sum_square() #method of the module "
   ]
  },
  {
   "cell_type": "markdown",
   "metadata": {},
   "source": [
    "## Programs and Packages \n",
    "\n",
    "- Python programs are composed of one or more modules or .py scripts.\n",
    "- Python packages are also a collection of modules. These are third-party open sources bundled modules that can be used together. In one package you have different modules and a `__init__.py` file which tell python that all the modules in this package are together.   \n",
    "- You can create your own packages too. (Let me know when you make, will like to put it to use!)"
   ]
  }
 ],
 "metadata": {
  "kernelspec": {
   "display_name": "Python 3",
   "language": "python",
   "name": "python3"
  },
  "language_info": {
   "codemirror_mode": {
    "name": "ipython",
    "version": 3
   },
   "file_extension": ".py",
   "mimetype": "text/x-python",
   "name": "python",
   "nbconvert_exporter": "python",
   "pygments_lexer": "ipython3",
   "version": "3.7.4"
  }
 },
 "nbformat": 4,
 "nbformat_minor": 2
}
