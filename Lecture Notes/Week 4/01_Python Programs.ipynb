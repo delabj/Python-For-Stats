{
 "cells": [
  {
   "cell_type": "markdown",
   "metadata": {},
   "source": [
    "# Introduction to Python Programs\n",
    "\n",
    "- Python Program, sometimes called a **Script**\n",
    "- When you start writing advance codes you will use Python Programs as a collection of modules. For now we will focus on simple program and not as a collection of modules. \n",
    "- All python files must have a **.py** extension\n",
    "\n",
    "A Python Program will typically have a Preamble and the Main program and/or functions. We will discuss functions in next few lectures. "
   ]
  },
  {
   "cell_type": "markdown",
   "metadata": {},
   "source": [
    "## Preamble \n",
    "- Import all packages and set their options as per your preferences, and these will be valid throughtout the program\n",
    "- You may choose to divide your preamble based on type of packages and their uses. For example - general, analysis, visualization etc"
   ]
  },
  {
   "cell_type": "code",
   "execution_count": 3,
   "metadata": {},
   "outputs": [],
   "source": [
    "#Importing packages\n",
    "import numpy as np #nicknaming the package NumPy as np\n",
    "\n",
    "#Setting options \n",
    "np.set_printoptions(precision=3, suppress=True) # I want the Python console ouptut to be upto 3 decimal points\n",
    "# if you want to read more about the Numpy function 'set_printoptions()' and its parameters such as precision, \n",
    "# for more, please read the documentation "
   ]
  },
  {
   "cell_type": "markdown",
   "metadata": {},
   "source": [
    "## Main program \n",
    "- This is where all action happens "
   ]
  },
  {
   "cell_type": "code",
   "execution_count": 4,
   "metadata": {},
   "outputs": [
    {
     "name": "stdout",
     "output_type": "stream",
     "text": [
      "The sum of the squared variables x and y is:  61\n",
      "The sum of the squared variables m and n is:  1700\n"
     ]
    }
   ],
   "source": [
    "# Main program \n",
    "x = 5\n",
    "y = 6\n",
    "z_sq = x**2 + y**2 #you can use pow() function also - pow(x,2)\n",
    "print('The sum of the squared variables x and y is: ', z_sq) \n",
    "\n",
    "# We can do one more\n",
    "m = 10\n",
    "n = 40\n",
    "o_sq = m**2 + n**2\n",
    "print('The sum of the squared variables m and n is: ', o_sq) "
   ]
  },
  {
   "cell_type": "code",
   "execution_count": null,
   "metadata": {},
   "outputs": [],
   "source": []
  }
 ],
 "metadata": {
  "kernelspec": {
   "display_name": "Python 3",
   "language": "python",
   "name": "python3"
  },
  "language_info": {
   "codemirror_mode": {
    "name": "ipython",
    "version": 3
   },
   "file_extension": ".py",
   "mimetype": "text/x-python",
   "name": "python",
   "nbconvert_exporter": "python",
   "pygments_lexer": "ipython3",
   "version": "3.7.4"
  }
 },
 "nbformat": 4,
 "nbformat_minor": 2
}
