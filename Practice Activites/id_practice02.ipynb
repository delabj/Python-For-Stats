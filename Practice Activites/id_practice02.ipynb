{
 "cells": [
  {
   "cell_type": "markdown",
   "metadata": {},
   "source": [
    "INSTRUCTIONS:\n",
    "\n",
    "Before you turn this problem in, make sure everything runs as expected. First, **restart the kernel** (in the menubar, select Kernel$\\rightarrow$Restart) and then **run all cells** (in the menubar, select Cell$\\rightarrow$Run All).\n",
    "\n",
    "Make sure you fill in any place that says `YOUR CODE HERE`.\n",
    "\n",
    "Please provide **your details correctly**. \n",
    "\n",
    "Please replace the **id** in the file name with your WIU_ID.\n",
    "\n",
    "Please do not change the name of the file. \n",
    "\n",
    "I do not grade this manually and if your details are incorrect, Python script will not recognize your submission and you wil' get zero for that assessment. "
   ]
  },
  {
   "cell_type": "code",
   "execution_count": 3,
   "metadata": {},
   "outputs": [],
   "source": [
    "FIRST_NAME = \"Joshua\" #put your name inside the quotes\n",
    "LAST_NAME = \"de la Bruere\" #put your name inside the quotes\n",
    "WIU_ID = \"919584268\" #this should be available on Western Online "
   ]
  },
  {
   "cell_type": "markdown",
   "metadata": {},
   "source": [
    "Please ignore the cells that have 'assert' written. These will be used for autograding. "
   ]
  },
  {
   "cell_type": "markdown",
   "metadata": {},
   "source": [
    "---"
   ]
  },
  {
   "cell_type": "markdown",
   "metadata": {
    "deletable": false,
    "editable": false,
    "nbgrader": {
     "cell_type": "markdown",
     "checksum": "86b315f98588426a43bcc8423d91aeb7",
     "grade": false,
     "grade_id": "cell-564e7c8fb4ddbf8e",
     "locked": true,
     "schema_version": 3,
     "solution": false,
     "task": false
    }
   },
   "source": [
    "## Q1 (Points 2): \n",
    "\n",
    "- Create a function named 'fav_drink_food'\n",
    "- It can take arbitrary number of keyword arguments using **kwargs\n",
    "- For this specific use case - it take two keyword arguments \n",
    "    1. 'summer_food'\n",
    "    2. 'winter_food' \n",
    "    \n",
    "- The function returns the string:\n",
    "\n",
    "    'My favorite summer food is `summer_food`, and winter food is `winter_food`'\n",
    "\n",
    "    - The `summer_food` will be the value of the keyword summer_food \n",
    "\n",
    "    - The `winter_food` will be the value of the keyword winter_food \n"
   ]
  },
  {
   "cell_type": "code",
   "execution_count": 17,
   "metadata": {
    "deletable": false,
    "nbgrader": {
     "cell_type": "code",
     "checksum": "8337d16c7439a491ed18a831e8d971b2",
     "grade": false,
     "grade_id": "cell-ccc77de20d269c82",
     "locked": false,
     "schema_version": 3,
     "solution": true,
     "task": false
    }
   },
   "outputs": [],
   "source": [
    "# YOUR CODE HERE\n",
    "\n",
    "def fav_drink_food (summer_food=\"none\", winter_food=\"none\", **kwargs ):\n",
    "    string = 'My favorite summer food is '+ summer_food + ', and winter food is ' + winter_food\n",
    "    return(string)"
   ]
  },
  {
   "cell_type": "code",
   "execution_count": 19,
   "metadata": {},
   "outputs": [
    {
     "data": {
      "text/plain": [
       "'My favorite summer food is Water Melon, and winter food is Pasta'"
      ]
     },
     "execution_count": 19,
     "metadata": {},
     "output_type": "execute_result"
    }
   ],
   "source": [
    "#test your output here \n",
    "fav_drink_food(winter_food='Pasta', summer_food='Water Melon') "
   ]
  },
  {
   "cell_type": "code",
   "execution_count": 20,
   "metadata": {
    "deletable": false,
    "editable": false,
    "nbgrader": {
     "cell_type": "code",
     "checksum": "982fc5ba4df0cf3cf0de68330d45fd91",
     "grade": true,
     "grade_id": "cell-1db38f0b321dfe9d",
     "locked": true,
     "points": 2,
     "schema_version": 3,
     "solution": false,
     "task": false
    }
   },
   "outputs": [],
   "source": [
    "#Worth 2 points\n",
    "assert fav_drink_food(winter_food='Pasta', summer_food='Water Melon') \\\n",
    "        == 'My favorite summer food is Water Melon, and winter food is Pasta'\n",
    "\n",
    "assert fav_drink_food(winter_food='Meat Loaf', summer_food='Soup') \\\n",
    "        == 'My favorite summer food is Soup, and winter food is Meat Loaf'"
   ]
  },
  {
   "cell_type": "markdown",
   "metadata": {
    "deletable": false,
    "editable": false,
    "nbgrader": {
     "cell_type": "markdown",
     "checksum": "47b4448871abfe399806ad822683387f",
     "grade": false,
     "grade_id": "cell-8feed9e7e7e34287",
     "locked": true,
     "schema_version": 3,
     "solution": false,
     "task": false
    }
   },
   "source": [
    "# Q2 (Points 5): \n",
    "\n",
    "- Create a function named 'cal_average'\n",
    "- It take a list of numbers \n",
    "- Return the average of the list \n",
    "\n",
    "*Hint:*\n",
    "1. use `sum(list_name)` to calculate the sum, as we did in lectures\n",
    "2. use `len(list_name)` to calculate size or length or number of observations\n"
   ]
  },
  {
   "cell_type": "code",
   "execution_count": 5,
   "metadata": {
    "deletable": false,
    "nbgrader": {
     "cell_type": "code",
     "checksum": "4cb59612155d7e885777ee7836a5b990",
     "grade": false,
     "grade_id": "cell-894a0275e6f22b95",
     "locked": false,
     "schema_version": 3,
     "solution": true,
     "task": false
    }
   },
   "outputs": [],
   "source": [
    "# YOUR CODE HERE\n",
    "def cal_average(list_name):\n",
    "    average=sum(list_name)/len(list_name)\n",
    "    return(average)"
   ]
  },
  {
   "cell_type": "code",
   "execution_count": 6,
   "metadata": {},
   "outputs": [
    {
     "data": {
      "text/plain": [
       "4.0"
      ]
     },
     "execution_count": 6,
     "metadata": {},
     "output_type": "execute_result"
    }
   ],
   "source": [
    "#test your output here \n",
    "cal_average([3,4,5])"
   ]
  },
  {
   "cell_type": "code",
   "execution_count": 7,
   "metadata": {
    "deletable": false,
    "editable": false,
    "nbgrader": {
     "cell_type": "code",
     "checksum": "a33fb111e163d33e1dd0b9e3e6739148",
     "grade": true,
     "grade_id": "cell-d8c28fdb1a1de439",
     "locked": true,
     "points": 5,
     "schema_version": 3,
     "solution": false,
     "task": false
    }
   },
   "outputs": [],
   "source": [
    "assert cal_average([2,3]) == 2.5\n",
    "assert cal_average([3,4,5]) == 4.0"
   ]
  },
  {
   "cell_type": "markdown",
   "metadata": {
    "deletable": false,
    "editable": false,
    "nbgrader": {
     "cell_type": "markdown",
     "checksum": "92f3686ca2cd12099ad4ba2252bcb6ad",
     "grade": false,
     "grade_id": "cell-cebef27513c86290",
     "locked": true,
     "schema_version": 3,
     "solution": false,
     "task": false
    }
   },
   "source": [
    "## Q3 (Points 8): \n",
    "\n",
    "- Create a function named 'cal_variance'\n",
    "- It take a list of numbers \n",
    "- Return the variance of the list \n",
    "\n",
    "*Hint:* You may follow these steps\n",
    "1. calculate the average\n",
    "2. calculate the squared deviation for each obseration \n",
    "    - create an empty list let's say numerator\n",
    "    - iterate over each item in the list of numbers \n",
    "    - subtract that item from the average to get the deviation\n",
    "    - square the deviation \n",
    "    - append this deviation to the list numerator at each run of for loop\n",
    "3. calculate the length of the list \n",
    "4. divide the sum of 'numerator' by lenght to get the variance"
   ]
  },
  {
   "cell_type": "code",
   "execution_count": 8,
   "metadata": {
    "deletable": false,
    "nbgrader": {
     "cell_type": "code",
     "checksum": "d78b320cd5ce9b23bb028b16bfdfebe6",
     "grade": false,
     "grade_id": "cell-780ebe3021c1792b",
     "locked": false,
     "schema_version": 3,
     "solution": true,
     "task": false
    }
   },
   "outputs": [],
   "source": [
    "# YOUR CODE HERE\n",
    "def cal_variance (list_num):\n",
    "    \n",
    "    # Get the average\n",
    "    average = cal_average(list_num)\n",
    "    \n",
    "    #empty list for deviation\n",
    "    deviation = []\n",
    "    \n",
    "    # for loop to get deviation\n",
    "    for i in range(0, len(list_num),1):\n",
    "        deviation.append((average-list_num[i])**2)\n",
    "    \n",
    "    # Varience calculation\n",
    "    varience = sum(deviation)/(len(deviation)-1)\n",
    "    \n",
    "    # variables out (average, length, sum, and varience)\n",
    "    var_out = [average, len(list_num), sum(list_num), varience]\n",
    "    return(var_out)\n"
   ]
  },
  {
   "cell_type": "code",
   "execution_count": 9,
   "metadata": {},
   "outputs": [
    {
     "data": {
      "text/plain": [
       "[4.0, 3, 12, 1.0]"
      ]
     },
     "execution_count": 9,
     "metadata": {},
     "output_type": "execute_result"
    }
   ],
   "source": [
    "#test your answer here \n",
    "cal_variance([3,4,5])"
   ]
  },
  {
   "cell_type": "code",
   "execution_count": 10,
   "metadata": {
    "deletable": false,
    "editable": false,
    "nbgrader": {
     "cell_type": "code",
     "checksum": "eaab21866ae04f8a3b52dc5a5b580b6b",
     "grade": true,
     "grade_id": "cell-ffad039c5775b759",
     "locked": true,
     "points": 2,
     "schema_version": 3,
     "solution": false,
     "task": false
    }
   },
   "outputs": [],
   "source": [
    "#Worth 2 points\n",
    "assert cal_variance([3,4,5])[0] == 4.0 #average"
   ]
  },
  {
   "cell_type": "code",
   "execution_count": 11,
   "metadata": {
    "deletable": false,
    "editable": false,
    "nbgrader": {
     "cell_type": "code",
     "checksum": "e70dcac21797e246975a97a18c28ef68",
     "grade": true,
     "grade_id": "cell-bddb923090daf0b9",
     "locked": true,
     "points": 2,
     "schema_version": 3,
     "solution": false,
     "task": false
    }
   },
   "outputs": [],
   "source": [
    "#Worth 2 points\n",
    "assert cal_variance([3,4,5])[1] == 3 #len"
   ]
  },
  {
   "cell_type": "code",
   "execution_count": 12,
   "metadata": {
    "deletable": false,
    "editable": false,
    "nbgrader": {
     "cell_type": "code",
     "checksum": "226623d5e02a4a9137bb987413dea3c0",
     "grade": true,
     "grade_id": "cell-073a22d9ca6d7120",
     "locked": true,
     "points": 2,
     "schema_version": 3,
     "solution": false,
     "task": false
    }
   },
   "outputs": [],
   "source": [
    "#Worth 2 points\n",
    "assert cal_variance([3,4,5])[1] == 3 #sum(numerator)"
   ]
  },
  {
   "cell_type": "code",
   "execution_count": 13,
   "metadata": {
    "deletable": false,
    "editable": false,
    "nbgrader": {
     "cell_type": "code",
     "checksum": "3eff10ddfda433afcb0a003c8d168ba4",
     "grade": true,
     "grade_id": "cell-c50f338883768425",
     "locked": true,
     "points": 2,
     "schema_version": 3,
     "solution": false,
     "task": false
    }
   },
   "outputs": [],
   "source": [
    "#Worth 2 points\n",
    "assert cal_variance([3,4,5])[3] == 1.0 #variance"
   ]
  },
  {
   "cell_type": "markdown",
   "metadata": {
    "deletable": false,
    "editable": false,
    "nbgrader": {
     "cell_type": "markdown",
     "checksum": "819153b3d5d595b645017af0b3e1261e",
     "grade": false,
     "grade_id": "cell-9ca3a5f3a1732808",
     "locked": true,
     "schema_version": 3,
     "solution": false,
     "task": false
    }
   },
   "source": [
    "# Q4 (Points 2): \n",
    "\n",
    "- Create a function named 'print_boolean'\n",
    "- It takes an integer or a float as an argument\n",
    "- The function returns the string:\n",
    "    - 'It should be sunny outside' if the value passed is greater than or equal to 32\n",
    "    - 'It is cold' if the value passed is less than 32"
   ]
  },
  {
   "cell_type": "code",
   "execution_count": 14,
   "metadata": {
    "deletable": false,
    "nbgrader": {
     "cell_type": "code",
     "checksum": "0e34932effbffce6a6ca3267c2db1965",
     "grade": false,
     "grade_id": "cell-c211e86770d8d619",
     "locked": false,
     "schema_version": 3,
     "solution": true,
     "task": false
    }
   },
   "outputs": [],
   "source": [
    "# YOUR CODE HERE\n",
    "def print_boolean (temp):\n",
    "    if(temp >= 32):\n",
    "        return('It should be sunny outside')\n",
    "    return('It is cold')"
   ]
  },
  {
   "cell_type": "code",
   "execution_count": 15,
   "metadata": {},
   "outputs": [
    {
     "data": {
      "text/plain": [
       "'It should be sunny outside'"
      ]
     },
     "execution_count": 15,
     "metadata": {},
     "output_type": "execute_result"
    }
   ],
   "source": [
    "# test your output here \n",
    "print_boolean(34)"
   ]
  },
  {
   "cell_type": "code",
   "execution_count": 16,
   "metadata": {
    "deletable": false,
    "editable": false,
    "nbgrader": {
     "cell_type": "code",
     "checksum": "6593cf8250b922bc0d5a30e72acf8fbb",
     "grade": true,
     "grade_id": "cell-7ce9207fc89f964f",
     "locked": true,
     "points": 1,
     "schema_version": 3,
     "solution": false,
     "task": false
    }
   },
   "outputs": [],
   "source": [
    "#Worth 1 points\n",
    "assert print_boolean(45) == 'It should be sunny outside'"
   ]
  },
  {
   "cell_type": "code",
   "execution_count": 17,
   "metadata": {
    "deletable": false,
    "editable": false,
    "nbgrader": {
     "cell_type": "code",
     "checksum": "849862caf9468757d594354246ce13d9",
     "grade": true,
     "grade_id": "cell-bf04d670e3b2184a",
     "locked": true,
     "points": 1,
     "schema_version": 3,
     "solution": false,
     "task": false
    }
   },
   "outputs": [],
   "source": [
    "#Worth 1 points\n",
    "assert print_boolean(30) == 'It is cold'"
   ]
  },
  {
   "cell_type": "markdown",
   "metadata": {
    "deletable": false,
    "editable": false,
    "nbgrader": {
     "cell_type": "markdown",
     "checksum": "be04b99e4dd6b73028d7071937a52852",
     "grade": false,
     "grade_id": "cell-ea16325b2a0d3f1b",
     "locked": true,
     "schema_version": 3,
     "solution": false,
     "task": false
    }
   },
   "source": [
    "## Q2 (Points 3): \n",
    "\n",
    "- Create a function named 'cal_status'\n",
    "- It can take arbitrary number of positional arguments using *args\n",
    "- The function returns the string:\n",
    "    - 'All numbers are negative' if all values passed are negative\n",
    "    - 'Positive and negative numbers are there' is there are positive and negative values \n",
    "    - 'All numbers are positive' if all values passed are positive"
   ]
  },
  {
   "cell_type": "code",
   "execution_count": 41,
   "metadata": {
    "deletable": false,
    "nbgrader": {
     "cell_type": "code",
     "checksum": "230f76a1e861b284564cf1a2a93ee175",
     "grade": false,
     "grade_id": "cell-3f87113ff48074fb",
     "locked": false,
     "schema_version": 3,
     "solution": true,
     "task": false
    }
   },
   "outputs": [],
   "source": [
    "# YOUR CODE HERE\n",
    "def cal_status (*numbers):\n",
    "    positive = False\n",
    "    negative = False\n",
    "    for i in numbers:\n",
    "        if i > 0:\n",
    "            positive = True\n",
    "        elif i< 0:\n",
    "            negative = True\n",
    "        else:\n",
    "            return('Positive and negative numbers are there' )\n",
    "    if positive == True:\n",
    "        if negative == True:\n",
    "            return('Positive and negative numbers are there' )\n",
    "        else:\n",
    "            return('All numbers are positive')\n",
    "    else:\n",
    "        return('All numbers are negative')\n",
    "        "
   ]
  },
  {
   "cell_type": "code",
   "execution_count": 40,
   "metadata": {},
   "outputs": [
    {
     "name": "stdout",
     "output_type": "stream",
     "text": [
      "False\n",
      "True\n"
     ]
    },
    {
     "data": {
      "text/plain": [
       "'All numbers are positive'"
      ]
     },
     "execution_count": 40,
     "metadata": {},
     "output_type": "execute_result"
    }
   ],
   "source": [
    "# test your output here \n",
    "cal_status(1,2)"
   ]
  },
  {
   "cell_type": "code",
   "execution_count": 43,
   "metadata": {
    "deletable": false,
    "editable": false,
    "nbgrader": {
     "cell_type": "code",
     "checksum": "8d783f3e8ccefcbdaa2c71413769c6b2",
     "grade": true,
     "grade_id": "cell-4ac1e7f4c02b9d81",
     "locked": true,
     "points": 1,
     "schema_version": 3,
     "solution": false,
     "task": false
    }
   },
   "outputs": [],
   "source": [
    "#Worth 1 points\n",
    "assert cal_status(-2, 3, 4) == 'Positive and negative numbers are there'"
   ]
  },
  {
   "cell_type": "code",
   "execution_count": 44,
   "metadata": {
    "deletable": false,
    "editable": false,
    "nbgrader": {
     "cell_type": "code",
     "checksum": "5484d0640354f4b7d4c9cf0d4b18d243",
     "grade": true,
     "grade_id": "cell-8045c781c7a3ca5f",
     "locked": true,
     "points": 1,
     "schema_version": 3,
     "solution": false,
     "task": false
    }
   },
   "outputs": [],
   "source": [
    "#Worth 1 points\n",
    "assert cal_status(-2, -3, -4, -9) == 'All numbers are negative'"
   ]
  },
  {
   "cell_type": "code",
   "execution_count": 45,
   "metadata": {
    "deletable": false,
    "editable": false,
    "nbgrader": {
     "cell_type": "code",
     "checksum": "1c4f351ec08c9b201acc84a59caebc92",
     "grade": true,
     "grade_id": "cell-1ddf6e0721bf4bf1",
     "locked": true,
     "points": 1,
     "schema_version": 3,
     "solution": false,
     "task": false
    }
   },
   "outputs": [],
   "source": [
    "#Worth 1 points\n",
    "assert cal_status(2, 3, 4, 3, 9) == 'All numbers are positive'"
   ]
  }
 ],
 "metadata": {
  "kernelspec": {
   "display_name": "Python 3",
   "language": "python",
   "name": "python3"
  },
  "language_info": {
   "codemirror_mode": {
    "name": "ipython",
    "version": 3
   },
   "file_extension": ".py",
   "mimetype": "text/x-python",
   "name": "python",
   "nbconvert_exporter": "python",
   "pygments_lexer": "ipython3",
   "version": "3.7.4"
  }
 },
 "nbformat": 4,
 "nbformat_minor": 2
}
