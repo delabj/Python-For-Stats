{
 "cells": [
  {
   "cell_type": "markdown",
   "metadata": {},
   "source": [
    "Before you turn this problem in, make sure everything runs as expected. First, **restart the kernel** (in the menubar, select Kernel$\\rightarrow$Restart) and then **run all cells** (in the menubar, select Cell$\\rightarrow$Run All).\n",
    "\n",
    "Make sure you fill in any place that says `YOUR CODE HERE`.\n",
    "\n",
    "Please provide **your details correctly**. I do not grade this manually and if your details are incorrect, Python script will not recognize your submission and you wil get zero for that assessment. "
   ]
  },
  {
   "cell_type": "code",
   "execution_count": 1,
   "metadata": {},
   "outputs": [],
   "source": [
    "FIRST_NAME = \"Joshua\" #put your name inside the quotes\n",
    "LAST_NAME = \"de la Bruere\" #put your name inside the quotes\n",
    "WIU_ID = \"919584268\" #this should be available on Western Online "
   ]
  },
  {
   "cell_type": "markdown",
   "metadata": {},
   "source": [
    "Please ignore the cells that have 'assert' written. These will be used for autograding. "
   ]
  },
  {
   "cell_type": "markdown",
   "metadata": {},
   "source": [
    "---"
   ]
  },
  {
   "cell_type": "markdown",
   "metadata": {
    "deletable": false,
    "editable": false,
    "nbgrader": {
     "cell_type": "markdown",
     "checksum": "ed00cc82fd4170c58787479675b68ce4",
     "grade": false,
     "grade_id": "cell-564e7c8fb4ddbf8e",
     "locked": true,
     "schema_version": 3,
     "solution": false,
     "task": false
    }
   },
   "source": [
    "### Q1 (Points 3): \n",
    "\n",
    "- Create a tuple object with 5 elements\n",
    "- assign it to a variable name \"first_tuple\"\n",
    "- The second element of the tuple should be a string of your choice "
   ]
  },
  {
   "cell_type": "code",
   "execution_count": 2,
   "metadata": {
    "deletable": false,
    "nbgrader": {
     "cell_type": "code",
     "checksum": "8337d16c7439a491ed18a831e8d971b2",
     "grade": false,
     "grade_id": "cell-ccc77de20d269c82",
     "locked": false,
     "schema_version": 3,
     "solution": true,
     "task": false
    }
   },
   "outputs": [],
   "source": [
    "# YOUR CODE HERE\n",
    "first_tuple = (1,'2',3,4,5)"
   ]
  },
  {
   "cell_type": "code",
   "execution_count": 3,
   "metadata": {
    "deletable": false,
    "editable": false,
    "nbgrader": {
     "cell_type": "code",
     "checksum": "a7bed4c3df7c71d4e71364709eca9fed",
     "grade": true,
     "grade_id": "cell-1db38f0b321dfe9d",
     "locked": true,
     "points": 1,
     "schema_version": 3,
     "solution": false,
     "task": false
    }
   },
   "outputs": [],
   "source": [
    "assert len(first_tuple) == 5"
   ]
  },
  {
   "cell_type": "code",
   "execution_count": 4,
   "metadata": {
    "deletable": false,
    "editable": false,
    "nbgrader": {
     "cell_type": "code",
     "checksum": "c8bf7048b39170778695e4ea83a81f90",
     "grade": true,
     "grade_id": "cell-5876727e12450fde",
     "locked": true,
     "points": 1,
     "schema_version": 3,
     "solution": false,
     "task": false
    }
   },
   "outputs": [],
   "source": [
    "assert isinstance(first_tuple, tuple) == True"
   ]
  },
  {
   "cell_type": "code",
   "execution_count": 5,
   "metadata": {
    "deletable": false,
    "editable": false,
    "nbgrader": {
     "cell_type": "code",
     "checksum": "b22c54720a3e1b4aced85b7017909dbf",
     "grade": true,
     "grade_id": "cell-0bd6e21bcac2f35d",
     "locked": true,
     "points": 1,
     "schema_version": 3,
     "solution": false,
     "task": false
    }
   },
   "outputs": [],
   "source": [
    "assert isinstance(first_tuple[1], str) == True"
   ]
  },
  {
   "cell_type": "markdown",
   "metadata": {
    "deletable": false,
    "editable": false,
    "nbgrader": {
     "cell_type": "markdown",
     "checksum": "72562d026090009c1217858bc66bebd2",
     "grade": false,
     "grade_id": "cell-8feed9e7e7e34287",
     "locked": true,
     "schema_version": 3,
     "solution": false,
     "task": false
    }
   },
   "source": [
    "### Q2 (Points 4 ): \n",
    "\n",
    "- Create a dictionary object with 4 elements\n",
    "- assign it to a variable name \"first_dict\"\n",
    "- the first two keys should be strings and the last two keys should be floats  \n",
    "- the first value should be a list and the last 3 values should be integers"
   ]
  },
  {
   "cell_type": "code",
   "execution_count": 6,
   "metadata": {
    "deletable": false,
    "nbgrader": {
     "cell_type": "code",
     "checksum": "4cb59612155d7e885777ee7836a5b990",
     "grade": false,
     "grade_id": "cell-894a0275e6f22b95",
     "locked": false,
     "schema_version": 3,
     "solution": true,
     "task": false
    }
   },
   "outputs": [],
   "source": [
    "# YOUR CODE HERE\n",
    "first_dict ={\n",
    "    \"One\":[ \"Similar in Stucture\", \"JSON files can have lists\", \"and function with a key method as well\" ],\n",
    "    \"two\": 2, \n",
    "    3.0: 3,\n",
    "    4.0: 4\n",
    "}"
   ]
  },
  {
   "cell_type": "code",
   "execution_count": 7,
   "metadata": {
    "deletable": false,
    "editable": false,
    "nbgrader": {
     "cell_type": "code",
     "checksum": "166b36b1b9621cee9af92a16447e5405",
     "grade": true,
     "grade_id": "cell-d8c28fdb1a1de439",
     "locked": true,
     "points": 1,
     "schema_version": 3,
     "solution": false,
     "task": false
    }
   },
   "outputs": [],
   "source": [
    "assert len(first_dict) == 4"
   ]
  },
  {
   "cell_type": "code",
   "execution_count": 8,
   "metadata": {
    "deletable": false,
    "editable": false,
    "nbgrader": {
     "cell_type": "code",
     "checksum": "64fd891b9ad2d177db54339d4aedb973",
     "grade": true,
     "grade_id": "cell-1439907d93f11152",
     "locked": true,
     "points": 1,
     "schema_version": 3,
     "solution": false,
     "task": false
    }
   },
   "outputs": [],
   "source": [
    "assert isinstance(first_dict, dict) == True"
   ]
  },
  {
   "cell_type": "code",
   "execution_count": 9,
   "metadata": {
    "deletable": false,
    "editable": false,
    "nbgrader": {
     "cell_type": "code",
     "checksum": "de152c4c028125d3417b080eb6775202",
     "grade": true,
     "grade_id": "cell-a01acc4d9e96ac7b",
     "locked": true,
     "points": 1,
     "schema_version": 3,
     "solution": false,
     "task": false
    }
   },
   "outputs": [],
   "source": [
    "keys = list(first_dict.keys())\n",
    "assert (isinstance(keys[0], str) and \n",
    "        isinstance(keys[1], str) and \n",
    "        isinstance(keys[2], float) and \n",
    "        isinstance(keys[3], float)) == True"
   ]
  },
  {
   "cell_type": "code",
   "execution_count": 10,
   "metadata": {
    "deletable": false,
    "editable": false,
    "nbgrader": {
     "cell_type": "code",
     "checksum": "04eca6a96e1e681cf43e291d0b9ab791",
     "grade": true,
     "grade_id": "cell-278e51ebd00afda7",
     "locked": true,
     "points": 1,
     "schema_version": 3,
     "solution": false,
     "task": false
    }
   },
   "outputs": [],
   "source": [
    "values = list(first_dict.values())\n",
    "assert (isinstance(values[0], list) and \n",
    "        isinstance(values[1], int) and \n",
    "        isinstance(values[2], int) and \n",
    "        isinstance(values[3], int)) == True"
   ]
  },
  {
   "cell_type": "markdown",
   "metadata": {
    "deletable": false,
    "editable": false,
    "nbgrader": {
     "cell_type": "markdown",
     "checksum": "4911728349aae1e94d949a8386295f5d",
     "grade": false,
     "grade_id": "cell-89b1212772515b3d",
     "locked": true,
     "schema_version": 3,
     "solution": false,
     "task": false
    }
   },
   "source": [
    "### Q3 (Points 1): \n",
    "\n",
    "Convert the string 'month' in uppercase and then assign it to a variable name \"upper_month\""
   ]
  },
  {
   "cell_type": "code",
   "execution_count": 11,
   "metadata": {
    "deletable": false,
    "nbgrader": {
     "cell_type": "code",
     "checksum": "125be3eae2a26aed57dcb59d439f41a7",
     "grade": false,
     "grade_id": "cell-9ddb550b9a73d91b",
     "locked": false,
     "schema_version": 3,
     "solution": true,
     "task": false
    }
   },
   "outputs": [],
   "source": [
    "month = 'December'\n",
    "# YOUR CODE HERE\n",
    "\n",
    "upper_month=month.upper()"
   ]
  },
  {
   "cell_type": "code",
   "execution_count": 12,
   "metadata": {
    "deletable": false,
    "editable": false,
    "nbgrader": {
     "cell_type": "code",
     "checksum": "b0cffd9f54ec4d960fecb65f466ebbad",
     "grade": true,
     "grade_id": "cell-f9f0d0b67b5dce83",
     "locked": true,
     "points": 1,
     "schema_version": 3,
     "solution": false,
     "task": false
    }
   },
   "outputs": [],
   "source": [
    "assert upper_month.isupper() == True"
   ]
  },
  {
   "cell_type": "markdown",
   "metadata": {
    "deletable": false,
    "editable": false,
    "nbgrader": {
     "cell_type": "markdown",
     "checksum": "414069a4ae9a5f5cbc966a4ac4ae56e7",
     "grade": false,
     "grade_id": "cell-52d94a5374d2702c",
     "locked": true,
     "schema_version": 3,
     "solution": false,
     "task": false
    }
   },
   "source": [
    "### Q4 (Points 2 ): \n",
    "\n",
    "- Create a variable name 'month_year' with a string 'January_2020'\n",
    "- Then replace '2020' with '2021' and assign the replaced string to variable name 'updated_data'"
   ]
  },
  {
   "cell_type": "code",
   "execution_count": 13,
   "metadata": {
    "deletable": false,
    "nbgrader": {
     "cell_type": "code",
     "checksum": "5e9f64ab2bcea871ba7654367160e37f",
     "grade": false,
     "grade_id": "cell-3c14cf99b1ff1c44",
     "locked": false,
     "schema_version": 3,
     "solution": true,
     "task": false
    }
   },
   "outputs": [],
   "source": [
    "# YOUR CODE HERE\n",
    "month_year = 'January_2020'\n",
    "updated_data = month_year.replace('2020', '2021')"
   ]
  },
  {
   "cell_type": "code",
   "execution_count": 14,
   "metadata": {
    "deletable": false,
    "editable": false,
    "nbgrader": {
     "cell_type": "code",
     "checksum": "be832c28d8a65366bdf53e46c9da653b",
     "grade": true,
     "grade_id": "cell-ed9037a57874ed8b",
     "locked": true,
     "points": 1,
     "schema_version": 3,
     "solution": false,
     "task": false
    }
   },
   "outputs": [],
   "source": [
    "assert (month_year == 'January_2020') == True"
   ]
  },
  {
   "cell_type": "code",
   "execution_count": 15,
   "metadata": {
    "deletable": false,
    "editable": false,
    "nbgrader": {
     "cell_type": "code",
     "checksum": "4825115d3791c12bb8c56d19fee134a6",
     "grade": true,
     "grade_id": "cell-65a534a611cbe622",
     "locked": true,
     "points": 1,
     "schema_version": 3,
     "solution": false,
     "task": false
    }
   },
   "outputs": [],
   "source": [
    "assert (updated_data[8:12] == '2021') == True"
   ]
  },
  {
   "cell_type": "markdown",
   "metadata": {
    "deletable": false,
    "editable": false,
    "nbgrader": {
     "cell_type": "markdown",
     "checksum": "0a93f0a337dfa4faffc52643dc3f0847",
     "grade": false,
     "grade_id": "cell-03383e1b1b8b1f43",
     "locked": true,
     "schema_version": 3,
     "solution": false,
     "task": false
    }
   },
   "source": [
    "### Q5 (Points 5): \n",
    "\n",
    "**Problem: Extract words starting with character 'P' from a given string.**\n",
    "\n",
    "Use the predefined variables **fun_string** and **final_list** (see below) and follow the four steps - each step can be converted into one line Python Statement.\n",
    "- Create a list that contains the words of **fun_string** as separate elements (*Hint: string method split()*) \n",
    "- Iterate over all elements of this new list created from **fun_string** (*Hint: for loop*) \n",
    "- Check if the first element of a word is equal to uppercase string 'P' (*Hint: if statement*) \n",
    "- If the element is equal to uppercase string then append it to the predefined list **final_list** (*Hint: append method*) "
   ]
  },
  {
   "cell_type": "code",
   "execution_count": 16,
   "metadata": {
    "deletable": false,
    "nbgrader": {
     "cell_type": "code",
     "checksum": "e58a9311bce8959540bf5e9ae73ee689",
     "grade": false,
     "grade_id": "cell-70a52b9cc4e53966",
     "locked": false,
     "schema_version": 3,
     "solution": true,
     "task": false
    }
   },
   "outputs": [],
   "source": [
    "final_list = [] #This creates an empty list with no elements \n",
    "fun_string = 'Phew! Python Class is too long'\n",
    "\n",
    "# YOUR CODE HERE\n",
    "list_of_words =  fun_string.split()\n",
    "\n",
    "for  i in fun_string.split():\n",
    "    if i[0:1] =='P':\n",
    "        final_list.append(i)\n",
    "print(final_list)"
   ]
  },
  {
   "cell_type": "code",
   "execution_count": 17,
   "metadata": {
    "deletable": false,
    "editable": false,
    "nbgrader": {
     "cell_type": "code",
     "checksum": "362314778858a0c19df93525a7a9656d",
     "grade": true,
     "grade_id": "cell-a192a7acf938f69b",
     "locked": true,
     "points": 5,
     "schema_version": 3,
     "solution": false,
     "task": false
    }
   },
   "outputs": [],
   "source": [
    "assert (final_list[0] == 'Phew!' and final_list[1] == 'Python') == True"
   ]
  },
  {
   "cell_type": "markdown",
   "metadata": {
    "deletable": false,
    "editable": false,
    "nbgrader": {
     "cell_type": "markdown",
     "checksum": "fa965550b1ef143a63968a1b030256db",
     "grade": false,
     "grade_id": "cell-80555db790dd8626",
     "locked": true,
     "schema_version": 3,
     "solution": false,
     "task": false
    }
   },
   "source": [
    "### Q6 (Points 5): \n",
    "\n",
    "Create a string 'city' with the value \"Chic ago\" \n",
    "Extract the first element \"Chic\" and store it in variable \"broken_string\""
   ]
  },
  {
   "cell_type": "code",
   "execution_count": 18,
   "metadata": {
    "deletable": false,
    "nbgrader": {
     "cell_type": "code",
     "checksum": "743ff6ceb67525a4b59057bc942455d0",
     "grade": false,
     "grade_id": "cell-8fc234597af29aed",
     "locked": false,
     "schema_version": 3,
     "solution": true,
     "task": false
    }
   },
   "outputs": [],
   "source": [
    "# YOUR CODE HERE\n",
    "\n",
    "city = \"Chic ago\"\n",
    "broken_string = city.split()[0]"
   ]
  },
  {
   "cell_type": "code",
   "execution_count": 19,
   "metadata": {
    "deletable": false,
    "editable": false,
    "nbgrader": {
     "cell_type": "code",
     "checksum": "6ce9de0ae5d32581a26b7251b73ad033",
     "grade": true,
     "grade_id": "cell-1a86158f70360505",
     "locked": true,
     "points": 2,
     "schema_version": 3,
     "solution": false,
     "task": false
    }
   },
   "outputs": [],
   "source": [
    "assert broken_string == \"Chic\""
   ]
  },
  {
   "cell_type": "markdown",
   "metadata": {
    "deletable": false,
    "editable": false,
    "nbgrader": {
     "cell_type": "markdown",
     "checksum": "ddb8f745d050df8edd3d6369b86b24f7",
     "grade": false,
     "grade_id": "cell-f76736b6ae7e1556",
     "locked": true,
     "schema_version": 3,
     "solution": false,
     "task": false
    }
   },
   "source": [
    "### Q7 (Points 5): \n",
    "\n",
    "- Iterate over all elements of a sequence of numbers between 0 to 100\n",
    "- If the element is divisible by 5 then append it to the predefined list **final_numbers** \n",
    "(*Hint: to check the divisibility we want the remainder to be zero. We learned that '%' is the remainder operator*) "
   ]
  },
  {
   "cell_type": "code",
   "execution_count": 20,
   "metadata": {
    "deletable": false,
    "nbgrader": {
     "cell_type": "code",
     "checksum": "189c828f32f8c8076edef3e807a8cf45",
     "grade": false,
     "grade_id": "cell-d12ce62fc1f27814",
     "locked": false,
     "schema_version": 3,
     "solution": true,
     "task": false
    }
   },
   "outputs": [],
   "source": [
    "final_numbers = [] #This creates an empty list with no elements \n",
    "# YOUR CODE HERE\n",
    "\n",
    "for i in range(0, 100,1):\n",
    "    if i % 5 == 0:\n",
    "        final_numbers.append(i)\n",
    "    "
   ]
  },
  {
   "cell_type": "code",
   "execution_count": 21,
   "metadata": {
    "deletable": false,
    "editable": false,
    "nbgrader": {
     "cell_type": "code",
     "checksum": "792fbf2e1dd136023e5814792a995d8a",
     "grade": true,
     "grade_id": "cell-446b95a494003eac",
     "locked": true,
     "points": 3,
     "schema_version": 3,
     "solution": false,
     "task": false
    }
   },
   "outputs": [],
   "source": [
    "assert len(final_numbers) != 0\n",
    "for item in final_numbers:\n",
    "    assert (item%5 == 0)"
   ]
  },
  {
   "cell_type": "code",
   "execution_count": null,
   "metadata": {},
   "outputs": [],
   "source": []
  }
 ],
 "metadata": {
  "kernelspec": {
   "display_name": "Python 3",
   "language": "python",
   "name": "python3"
  },
  "language_info": {
   "codemirror_mode": {
    "name": "ipython",
    "version": 3
   },
   "file_extension": ".py",
   "mimetype": "text/x-python",
   "name": "python",
   "nbconvert_exporter": "python",
   "pygments_lexer": "ipython3",
   "version": "3.7.4"
  }
 },
 "nbformat": 4,
 "nbformat_minor": 2
}
