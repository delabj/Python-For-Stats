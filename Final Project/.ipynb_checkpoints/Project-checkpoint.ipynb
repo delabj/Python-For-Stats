{
 "cells": [
  {
   "cell_type": "markdown",
   "metadata": {},
   "source": [
    "# DS490 Final Project\n",
    "## Predicting Absenteeism\n",
    "\n",
    "At PVCSD one of the intitiives has been to STRIVE FOR 5 or fewer days absent. This is because students with too many days absent are considered chronically absent, which is considered a critical status. PVCSD is also working on developing a Spartan Ready designation for students who are post secondary ready. If predicting Absenteeism is possible, this would serve as a warning, trigger for student driven intervention. "
   ]
  },
  {
   "cell_type": "markdown",
   "metadata": {},
   "source": [
    "## The Data\n",
    "\n",
    "The data for this project is drawn from the PVCSD Student Information System (SIS). This means that the data and factors used adn discovered in this project, will be computeable within the main system for student administration. "
   ]
  },
  {
   "cell_type": "code",
   "execution_count": 1,
   "metadata": {
    "scrolled": true
   },
   "outputs": [
    {
     "data": {
      "text/html": [
       "<div>\n",
       "<style scoped>\n",
       "    .dataframe tbody tr th:only-of-type {\n",
       "        vertical-align: middle;\n",
       "    }\n",
       "\n",
       "    .dataframe tbody tr th {\n",
       "        vertical-align: top;\n",
       "    }\n",
       "\n",
       "    .dataframe thead th {\n",
       "        text-align: right;\n",
       "    }\n",
       "</style>\n",
       "<table border=\"1\" class=\"dataframe\">\n",
       "  <thead>\n",
       "    <tr style=\"text-align: right;\">\n",
       "      <th></th>\n",
       "      <th>grade</th>\n",
       "      <th>gpa</th>\n",
       "      <th>chronicly_absent</th>\n",
       "      <th>days_absent</th>\n",
       "      <th>act_taken</th>\n",
       "      <th>read_scale</th>\n",
       "      <th>writing_scale</th>\n",
       "      <th>math_scale</th>\n",
       "      <th>female</th>\n",
       "      <th>white</th>\n",
       "      <th>special_ed</th>\n",
       "      <th>plan_504</th>\n",
       "      <th>free_and_reduced</th>\n",
       "      <th>gifted</th>\n",
       "    </tr>\n",
       "  </thead>\n",
       "  <tbody>\n",
       "    <tr>\n",
       "      <th>0</th>\n",
       "      <td>10</td>\n",
       "      <td>3.054</td>\n",
       "      <td>1</td>\n",
       "      <td>30.01</td>\n",
       "      <td>0</td>\n",
       "      <td>530</td>\n",
       "      <td>480</td>\n",
       "      <td>502</td>\n",
       "      <td>1</td>\n",
       "      <td>1</td>\n",
       "      <td>1</td>\n",
       "      <td>0</td>\n",
       "      <td>0</td>\n",
       "      <td>0</td>\n",
       "    </tr>\n",
       "    <tr>\n",
       "      <th>1</th>\n",
       "      <td>11</td>\n",
       "      <td>3.357</td>\n",
       "      <td>0</td>\n",
       "      <td>11.63</td>\n",
       "      <td>1</td>\n",
       "      <td>603</td>\n",
       "      <td>691</td>\n",
       "      <td>656</td>\n",
       "      <td>1</td>\n",
       "      <td>1</td>\n",
       "      <td>0</td>\n",
       "      <td>0</td>\n",
       "      <td>0</td>\n",
       "      <td>0</td>\n",
       "    </tr>\n",
       "    <tr>\n",
       "      <th>2</th>\n",
       "      <td>10</td>\n",
       "      <td>2.801</td>\n",
       "      <td>0</td>\n",
       "      <td>9.43</td>\n",
       "      <td>0</td>\n",
       "      <td>567</td>\n",
       "      <td>578</td>\n",
       "      <td>552</td>\n",
       "      <td>1</td>\n",
       "      <td>1</td>\n",
       "      <td>0</td>\n",
       "      <td>0</td>\n",
       "      <td>0</td>\n",
       "      <td>0</td>\n",
       "    </tr>\n",
       "    <tr>\n",
       "      <th>3</th>\n",
       "      <td>9</td>\n",
       "      <td>3.614</td>\n",
       "      <td>0</td>\n",
       "      <td>3.98</td>\n",
       "      <td>0</td>\n",
       "      <td>557</td>\n",
       "      <td>553</td>\n",
       "      <td>552</td>\n",
       "      <td>0</td>\n",
       "      <td>1</td>\n",
       "      <td>1</td>\n",
       "      <td>0</td>\n",
       "      <td>0</td>\n",
       "      <td>0</td>\n",
       "    </tr>\n",
       "    <tr>\n",
       "      <th>4</th>\n",
       "      <td>11</td>\n",
       "      <td>2.939</td>\n",
       "      <td>0</td>\n",
       "      <td>0.77</td>\n",
       "      <td>1</td>\n",
       "      <td>549</td>\n",
       "      <td>576</td>\n",
       "      <td>578</td>\n",
       "      <td>0</td>\n",
       "      <td>0</td>\n",
       "      <td>0</td>\n",
       "      <td>0</td>\n",
       "      <td>1</td>\n",
       "      <td>0</td>\n",
       "    </tr>\n",
       "    <tr>\n",
       "      <th>...</th>\n",
       "      <td>...</td>\n",
       "      <td>...</td>\n",
       "      <td>...</td>\n",
       "      <td>...</td>\n",
       "      <td>...</td>\n",
       "      <td>...</td>\n",
       "      <td>...</td>\n",
       "      <td>...</td>\n",
       "      <td>...</td>\n",
       "      <td>...</td>\n",
       "      <td>...</td>\n",
       "      <td>...</td>\n",
       "      <td>...</td>\n",
       "      <td>...</td>\n",
       "    </tr>\n",
       "    <tr>\n",
       "      <th>1061</th>\n",
       "      <td>9</td>\n",
       "      <td>2.727</td>\n",
       "      <td>1</td>\n",
       "      <td>9.55</td>\n",
       "      <td>0</td>\n",
       "      <td>518</td>\n",
       "      <td>569</td>\n",
       "      <td>552</td>\n",
       "      <td>1</td>\n",
       "      <td>1</td>\n",
       "      <td>0</td>\n",
       "      <td>0</td>\n",
       "      <td>0</td>\n",
       "      <td>0</td>\n",
       "    </tr>\n",
       "    <tr>\n",
       "      <th>1062</th>\n",
       "      <td>10</td>\n",
       "      <td>2.733</td>\n",
       "      <td>0</td>\n",
       "      <td>2.94</td>\n",
       "      <td>0</td>\n",
       "      <td>488</td>\n",
       "      <td>585</td>\n",
       "      <td>502</td>\n",
       "      <td>1</td>\n",
       "      <td>0</td>\n",
       "      <td>0</td>\n",
       "      <td>0</td>\n",
       "      <td>0</td>\n",
       "      <td>0</td>\n",
       "    </tr>\n",
       "    <tr>\n",
       "      <th>1063</th>\n",
       "      <td>11</td>\n",
       "      <td>3.754</td>\n",
       "      <td>0</td>\n",
       "      <td>2.37</td>\n",
       "      <td>0</td>\n",
       "      <td>705</td>\n",
       "      <td>677</td>\n",
       "      <td>800</td>\n",
       "      <td>0</td>\n",
       "      <td>1</td>\n",
       "      <td>0</td>\n",
       "      <td>0</td>\n",
       "      <td>0</td>\n",
       "      <td>0</td>\n",
       "    </tr>\n",
       "    <tr>\n",
       "      <th>1064</th>\n",
       "      <td>10</td>\n",
       "      <td>1.218</td>\n",
       "      <td>1</td>\n",
       "      <td>3.75</td>\n",
       "      <td>0</td>\n",
       "      <td>488</td>\n",
       "      <td>442</td>\n",
       "      <td>523</td>\n",
       "      <td>0</td>\n",
       "      <td>1</td>\n",
       "      <td>0</td>\n",
       "      <td>0</td>\n",
       "      <td>0</td>\n",
       "      <td>0</td>\n",
       "    </tr>\n",
       "    <tr>\n",
       "      <th>1065</th>\n",
       "      <td>10</td>\n",
       "      <td>1.218</td>\n",
       "      <td>1</td>\n",
       "      <td>11.39</td>\n",
       "      <td>0</td>\n",
       "      <td>488</td>\n",
       "      <td>442</td>\n",
       "      <td>523</td>\n",
       "      <td>0</td>\n",
       "      <td>1</td>\n",
       "      <td>0</td>\n",
       "      <td>0</td>\n",
       "      <td>0</td>\n",
       "      <td>0</td>\n",
       "    </tr>\n",
       "  </tbody>\n",
       "</table>\n",
       "<p>1066 rows × 14 columns</p>\n",
       "</div>"
      ],
      "text/plain": [
       "      grade    gpa  chronicly_absent  days_absent  act_taken  read_scale  \\\n",
       "0        10  3.054                 1        30.01          0         530   \n",
       "1        11  3.357                 0        11.63          1         603   \n",
       "2        10  2.801                 0         9.43          0         567   \n",
       "3         9  3.614                 0         3.98          0         557   \n",
       "4        11  2.939                 0         0.77          1         549   \n",
       "...     ...    ...               ...          ...        ...         ...   \n",
       "1061      9  2.727                 1         9.55          0         518   \n",
       "1062     10  2.733                 0         2.94          0         488   \n",
       "1063     11  3.754                 0         2.37          0         705   \n",
       "1064     10  1.218                 1         3.75          0         488   \n",
       "1065     10  1.218                 1        11.39          0         488   \n",
       "\n",
       "      writing_scale  math_scale  female  white  special_ed  plan_504  \\\n",
       "0               480         502       1      1           1         0   \n",
       "1               691         656       1      1           0         0   \n",
       "2               578         552       1      1           0         0   \n",
       "3               553         552       0      1           1         0   \n",
       "4               576         578       0      0           0         0   \n",
       "...             ...         ...     ...    ...         ...       ...   \n",
       "1061            569         552       1      1           0         0   \n",
       "1062            585         502       1      0           0         0   \n",
       "1063            677         800       0      1           0         0   \n",
       "1064            442         523       0      1           0         0   \n",
       "1065            442         523       0      1           0         0   \n",
       "\n",
       "      free_and_reduced  gifted  \n",
       "0                    0       0  \n",
       "1                    0       0  \n",
       "2                    0       0  \n",
       "3                    0       0  \n",
       "4                    1       0  \n",
       "...                ...     ...  \n",
       "1061                 0       0  \n",
       "1062                 0       0  \n",
       "1063                 0       0  \n",
       "1064                 0       0  \n",
       "1065                 0       0  \n",
       "\n",
       "[1066 rows x 14 columns]"
      ]
     },
     "execution_count": 1,
     "metadata": {},
     "output_type": "execute_result"
    }
   ],
   "source": [
    "import pandas as pd\n",
    "import numpy as np\n",
    "import matplotlib.pyplot as plt\n",
    "import seaborn as sns\n",
    "from plotnine import *\n",
    "from sklearn.model_selection import train_test_split\n",
    "from sklearn import tree\n",
    "\n",
    "\n",
    "data = pd.read_csv('data.csv', header=0)\n",
    "\n",
    "data"
   ]
  },
  {
   "cell_type": "markdown",
   "metadata": {},
   "source": [
    "## EDA and Visualization\n",
    "\n",
    "Before doing any prediction or clustering, it's important to look at the data and spot any potential issues. "
   ]
  },
  {
   "cell_type": "code",
   "execution_count": 2,
   "metadata": {},
   "outputs": [
    {
     "data": {
      "text/html": [
       "<div>\n",
       "<style scoped>\n",
       "    .dataframe tbody tr th:only-of-type {\n",
       "        vertical-align: middle;\n",
       "    }\n",
       "\n",
       "    .dataframe tbody tr th {\n",
       "        vertical-align: top;\n",
       "    }\n",
       "\n",
       "    .dataframe thead th {\n",
       "        text-align: right;\n",
       "    }\n",
       "</style>\n",
       "<table border=\"1\" class=\"dataframe\">\n",
       "  <thead>\n",
       "    <tr style=\"text-align: right;\">\n",
       "      <th></th>\n",
       "      <th>grade</th>\n",
       "      <th>gpa</th>\n",
       "      <th>chronicly_absent</th>\n",
       "      <th>days_absent</th>\n",
       "      <th>act_taken</th>\n",
       "      <th>read_scale</th>\n",
       "      <th>writing_scale</th>\n",
       "      <th>math_scale</th>\n",
       "      <th>female</th>\n",
       "      <th>white</th>\n",
       "      <th>special_ed</th>\n",
       "      <th>plan_504</th>\n",
       "      <th>free_and_reduced</th>\n",
       "      <th>gifted</th>\n",
       "    </tr>\n",
       "  </thead>\n",
       "  <tbody>\n",
       "    <tr>\n",
       "      <th>count</th>\n",
       "      <td>1066.000000</td>\n",
       "      <td>1066.000000</td>\n",
       "      <td>1066.000000</td>\n",
       "      <td>1066.000000</td>\n",
       "      <td>1066.000000</td>\n",
       "      <td>1066.000000</td>\n",
       "      <td>1066.000000</td>\n",
       "      <td>1066.000000</td>\n",
       "      <td>1066.000000</td>\n",
       "      <td>1066.000000</td>\n",
       "      <td>1066.000000</td>\n",
       "      <td>1066.000000</td>\n",
       "      <td>1066.000000</td>\n",
       "      <td>1066.000000</td>\n",
       "    </tr>\n",
       "    <tr>\n",
       "      <th>mean</th>\n",
       "      <td>9.942777</td>\n",
       "      <td>3.288175</td>\n",
       "      <td>0.051595</td>\n",
       "      <td>6.154662</td>\n",
       "      <td>0.372420</td>\n",
       "      <td>606.855535</td>\n",
       "      <td>604.679174</td>\n",
       "      <td>620.504690</td>\n",
       "      <td>0.484991</td>\n",
       "      <td>0.857411</td>\n",
       "      <td>0.049719</td>\n",
       "      <td>0.047842</td>\n",
       "      <td>0.110694</td>\n",
       "      <td>0.087242</td>\n",
       "    </tr>\n",
       "    <tr>\n",
       "      <th>std</th>\n",
       "      <td>0.835542</td>\n",
       "      <td>0.581020</td>\n",
       "      <td>0.221311</td>\n",
       "      <td>6.216365</td>\n",
       "      <td>0.483676</td>\n",
       "      <td>57.832328</td>\n",
       "      <td>59.807911</td>\n",
       "      <td>67.852315</td>\n",
       "      <td>0.500009</td>\n",
       "      <td>0.349817</td>\n",
       "      <td>0.217465</td>\n",
       "      <td>0.213533</td>\n",
       "      <td>0.313900</td>\n",
       "      <td>0.282322</td>\n",
       "    </tr>\n",
       "    <tr>\n",
       "      <th>min</th>\n",
       "      <td>8.000000</td>\n",
       "      <td>0.991000</td>\n",
       "      <td>0.000000</td>\n",
       "      <td>0.000000</td>\n",
       "      <td>0.000000</td>\n",
       "      <td>417.000000</td>\n",
       "      <td>0.000000</td>\n",
       "      <td>446.000000</td>\n",
       "      <td>0.000000</td>\n",
       "      <td>0.000000</td>\n",
       "      <td>0.000000</td>\n",
       "      <td>0.000000</td>\n",
       "      <td>0.000000</td>\n",
       "      <td>0.000000</td>\n",
       "    </tr>\n",
       "    <tr>\n",
       "      <th>25%</th>\n",
       "      <td>9.000000</td>\n",
       "      <td>2.944250</td>\n",
       "      <td>0.000000</td>\n",
       "      <td>1.900000</td>\n",
       "      <td>0.000000</td>\n",
       "      <td>568.000000</td>\n",
       "      <td>571.000000</td>\n",
       "      <td>571.750000</td>\n",
       "      <td>0.000000</td>\n",
       "      <td>1.000000</td>\n",
       "      <td>0.000000</td>\n",
       "      <td>0.000000</td>\n",
       "      <td>0.000000</td>\n",
       "      <td>0.000000</td>\n",
       "    </tr>\n",
       "    <tr>\n",
       "      <th>50%</th>\n",
       "      <td>10.000000</td>\n",
       "      <td>3.420500</td>\n",
       "      <td>0.000000</td>\n",
       "      <td>4.460000</td>\n",
       "      <td>0.000000</td>\n",
       "      <td>605.000000</td>\n",
       "      <td>609.000000</td>\n",
       "      <td>616.000000</td>\n",
       "      <td>0.000000</td>\n",
       "      <td>1.000000</td>\n",
       "      <td>0.000000</td>\n",
       "      <td>0.000000</td>\n",
       "      <td>0.000000</td>\n",
       "      <td>0.000000</td>\n",
       "    </tr>\n",
       "    <tr>\n",
       "      <th>75%</th>\n",
       "      <td>11.000000</td>\n",
       "      <td>3.744750</td>\n",
       "      <td>0.000000</td>\n",
       "      <td>8.532500</td>\n",
       "      <td>1.000000</td>\n",
       "      <td>636.000000</td>\n",
       "      <td>641.000000</td>\n",
       "      <td>664.000000</td>\n",
       "      <td>1.000000</td>\n",
       "      <td>1.000000</td>\n",
       "      <td>0.000000</td>\n",
       "      <td>0.000000</td>\n",
       "      <td>0.000000</td>\n",
       "      <td>0.000000</td>\n",
       "    </tr>\n",
       "    <tr>\n",
       "      <th>max</th>\n",
       "      <td>11.000000</td>\n",
       "      <td>4.000000</td>\n",
       "      <td>1.000000</td>\n",
       "      <td>54.940000</td>\n",
       "      <td>1.000000</td>\n",
       "      <td>800.000000</td>\n",
       "      <td>758.000000</td>\n",
       "      <td>800.000000</td>\n",
       "      <td>1.000000</td>\n",
       "      <td>1.000000</td>\n",
       "      <td>1.000000</td>\n",
       "      <td>1.000000</td>\n",
       "      <td>1.000000</td>\n",
       "      <td>1.000000</td>\n",
       "    </tr>\n",
       "  </tbody>\n",
       "</table>\n",
       "</div>"
      ],
      "text/plain": [
       "             grade          gpa  chronicly_absent  days_absent    act_taken  \\\n",
       "count  1066.000000  1066.000000       1066.000000  1066.000000  1066.000000   \n",
       "mean      9.942777     3.288175          0.051595     6.154662     0.372420   \n",
       "std       0.835542     0.581020          0.221311     6.216365     0.483676   \n",
       "min       8.000000     0.991000          0.000000     0.000000     0.000000   \n",
       "25%       9.000000     2.944250          0.000000     1.900000     0.000000   \n",
       "50%      10.000000     3.420500          0.000000     4.460000     0.000000   \n",
       "75%      11.000000     3.744750          0.000000     8.532500     1.000000   \n",
       "max      11.000000     4.000000          1.000000    54.940000     1.000000   \n",
       "\n",
       "        read_scale  writing_scale   math_scale       female        white  \\\n",
       "count  1066.000000    1066.000000  1066.000000  1066.000000  1066.000000   \n",
       "mean    606.855535     604.679174   620.504690     0.484991     0.857411   \n",
       "std      57.832328      59.807911    67.852315     0.500009     0.349817   \n",
       "min     417.000000       0.000000   446.000000     0.000000     0.000000   \n",
       "25%     568.000000     571.000000   571.750000     0.000000     1.000000   \n",
       "50%     605.000000     609.000000   616.000000     0.000000     1.000000   \n",
       "75%     636.000000     641.000000   664.000000     1.000000     1.000000   \n",
       "max     800.000000     758.000000   800.000000     1.000000     1.000000   \n",
       "\n",
       "        special_ed     plan_504  free_and_reduced       gifted  \n",
       "count  1066.000000  1066.000000       1066.000000  1066.000000  \n",
       "mean      0.049719     0.047842          0.110694     0.087242  \n",
       "std       0.217465     0.213533          0.313900     0.282322  \n",
       "min       0.000000     0.000000          0.000000     0.000000  \n",
       "25%       0.000000     0.000000          0.000000     0.000000  \n",
       "50%       0.000000     0.000000          0.000000     0.000000  \n",
       "75%       0.000000     0.000000          0.000000     0.000000  \n",
       "max       1.000000     1.000000          1.000000     1.000000  "
      ]
     },
     "execution_count": 2,
     "metadata": {},
     "output_type": "execute_result"
    }
   ],
   "source": [
    "data.describe()"
   ]
  },
  {
   "cell_type": "markdown",
   "metadata": {},
   "source": [
    "Distribution of continous vairables"
   ]
  },
  {
   "cell_type": "code",
   "execution_count": 3,
   "metadata": {},
   "outputs": [
    {
     "data": {
      "image/png": "[encoded data removed]",
      "text/plain": [
       "<Figure size 640x480 with 1 Axes>"
      ]
     },
     "metadata": {
      "needs_background": "light"
     },
     "output_type": "display_data"
    },
    {
     "data": {
      "text/plain": [
       "<ggplot: (-9223371860162029764)>"
      ]
     },
     "execution_count": 3,
     "metadata": {},
     "output_type": "execute_result"
    }
   ],
   "source": [
    "\n",
    "(ggplot(data, aes(y='gpa', x='factor(grade)'))\n",
    " + geom_violin(fill='Green', alpha =.6)\n",
    " #+ geom_jitter(fill='Green', alpha =.1)\n",
    " + theme_minimal()\n",
    " + theme(legend_position = \"none\")\n",
    " + labs(title =\"Distribution of GPA by Grade\",\n",
    "       y=\"\",x=\"\" \n",
    "       )\n",
    " + coord_flip()\n",
    "\n",
    ")\n"
   ]
  },
  {
   "cell_type": "code",
   "execution_count": 4,
   "metadata": {},
   "outputs": [
    {
     "data": {
      "image/png": "[encoded data removed]",
      "text/plain": [
       "<Figure size 640x480 with 1 Axes>"
      ]
     },
     "metadata": {
      "needs_background": "light"
     },
     "output_type": "display_data"
    },
    {
     "data": {
      "text/plain": [
       "<ggplot: (-9223371860155485108)>"
      ]
     },
     "execution_count": 4,
     "metadata": {},
     "output_type": "execute_result"
    }
   ],
   "source": [
    "\n",
    "(ggplot(data, aes(y='days_absent', x='factor(grade)'))\n",
    " + geom_violin(fill='Green', alpha =.6)\n",
    " #+ geom_jitter(fill='Green', alpha =.1)\n",
    " + theme_minimal()\n",
    " + theme(legend_position = \"none\")\n",
    " + labs(title =\"Distribution of Absences by Grade\",\n",
    "       y=\"\",x=\"\" \n",
    "       )\n",
    " + coord_flip()\n",
    "\n",
    ")\n"
   ]
  },
  {
   "cell_type": "code",
   "execution_count": 5,
   "metadata": {},
   "outputs": [
    {
     "data": {
      "image/png": "[encoded data removed]",
      "text/plain": [
       "<Figure size 640x480 with 1 Axes>"
      ]
     },
     "metadata": {
      "needs_background": "light"
     },
     "output_type": "display_data"
    },
    {
     "data": {
      "text/plain": [
       "<ggplot: (-9223371860155195564)>"
      ]
     },
     "execution_count": 5,
     "metadata": {},
     "output_type": "execute_result"
    }
   ],
   "source": [
    "\n",
    "(ggplot(data, aes(y='read_scale', x='factor(grade)'))\n",
    " + geom_violin(fill='Green', alpha =.6)\n",
    " #+ geom_jitter(fill='Green', alpha =.1)\n",
    " + theme_minimal()\n",
    " + theme(legend_position = \"none\")\n",
    " + labs(title =\"Distribution of ISASP Reading Scale Score by Grade\",\n",
    "       y=\"\",x=\"\" \n",
    "       )\n",
    " + coord_flip()\n",
    "\n",
    ")\n"
   ]
  },
  {
   "cell_type": "code",
   "execution_count": 6,
   "metadata": {},
   "outputs": [
    {
     "data": {
      "image/png": "[encoded data removed]",
      "text/plain": [
       "<Figure size 640x480 with 1 Axes>"
      ]
     },
     "metadata": {
      "needs_background": "light"
     },
     "output_type": "display_data"
    },
    {
     "data": {
      "text/plain": [
       "<ggplot: (-9223371860155207668)>"
      ]
     },
     "execution_count": 6,
     "metadata": {},
     "output_type": "execute_result"
    }
   ],
   "source": [
    "\n",
    "(ggplot(data, aes(y='writing_scale', x='factor(grade)'))\n",
    " + geom_violin(fill='Green', alpha =.6)\n",
    " #+ geom_jitter(fill='Green', alpha =.1)\n",
    " + theme_minimal()\n",
    " + theme(legend_position = \"none\")\n",
    " + labs(title =\"Distribution of ISASP Writing Scale Score by Grade\",\n",
    "       y=\"\",x=\"\" \n",
    "       )\n",
    " + coord_flip()\n",
    "\n",
    ")\n"
   ]
  },
  {
   "cell_type": "code",
   "execution_count": 7,
   "metadata": {},
   "outputs": [
    {
     "data": {
      "image/png": "[encoded data removed]",
      "text/plain": [
       "<Figure size 640x480 with 1 Axes>"
      ]
     },
     "metadata": {
      "needs_background": "light"
     },
     "output_type": "display_data"
    },
    {
     "data": {
      "text/plain": [
       "<ggplot: (-9223371860154122472)>"
      ]
     },
     "execution_count": 7,
     "metadata": {},
     "output_type": "execute_result"
    }
   ],
   "source": [
    "\n",
    "(ggplot(data, aes(y='math_scale', x='factor(grade)'))\n",
    " + geom_violin(fill='Green', alpha =.6)\n",
    " #+ geom_jitter(fill='Green', alpha =.1)\n",
    " + theme_minimal()\n",
    " + theme(legend_position = \"none\")\n",
    " + labs(title =\"Distribution of ISASP Math Scale Score by Grade\",\n",
    "       y=\"\",x=\"\" \n",
    "       )\n",
    " + coord_flip()\n",
    "\n",
    ")"
   ]
  },
  {
   "cell_type": "code",
   "execution_count": 8,
   "metadata": {},
   "outputs": [
    {
     "data": {
      "image/png": "[encoded data removed]",
      "text/plain": [
       "<Figure size 640x480 with 1 Axes>"
      ]
     },
     "metadata": {
      "needs_background": "light"
     },
     "output_type": "display_data"
    },
    {
     "data": {
      "text/plain": [
       "<ggplot: (-9223371860154128228)>"
      ]
     },
     "execution_count": 8,
     "metadata": {},
     "output_type": "execute_result"
    }
   ],
   "source": [
    "\n",
    "(ggplot(data, aes(x='grade'))\n",
    " + geom_bar( fill='Green')\n",
    " + geom_text(\n",
    "     aes(label='stat(count)'),\n",
    "     stat='count',\n",
    "     nudge_y=0.125,\n",
    "     va='bottom'\n",
    " )\n",
    " + theme_minimal()\n",
    " + theme(legend_position = \"none\")\n",
    " + labs(title =\"Count of Students By Grade\",\n",
    "       y=\"\",x=\"\" \n",
    "       )\n",
    "\n",
    ")\n"
   ]
  },
  {
   "cell_type": "code",
   "execution_count": 9,
   "metadata": {},
   "outputs": [
    {
     "data": {
      "text/plain": [
       "<matplotlib.axes._subplots.AxesSubplot at 0x29242ecc388>"
      ]
     },
     "execution_count": 9,
     "metadata": {},
     "output_type": "execute_result"
    },
    {
     "data": {
      "image/png": "[encoded data removed]",
      "text/plain": [
       "<Figure size 432x288 with 2 Axes>"
      ]
     },
     "metadata": {
      "needs_background": "light"
     },
     "output_type": "display_data"
    }
   ],
   "source": [
    "corr = data.corr()\n",
    "corr\n",
    "\n",
    "sns.heatmap(corr)\n"
   ]
  },
  {
   "cell_type": "markdown",
   "metadata": {},
   "source": [
    "It's pretty clear that the ISASP scores are very correlated with themselves, with the corelation coefficent ranging from 0.65, to 0.68, which is fairly correlated. "
   ]
  },
  {
   "cell_type": "code",
   "execution_count": 10,
   "metadata": {},
   "outputs": [
    {
     "data": {
      "image/png": "[encoded data removed]",
      "text/plain": [
       "<Figure size 640x480 with 7 Axes>"
      ]
     },
     "metadata": {
      "needs_background": "light"
     },
     "output_type": "display_data"
    },
    {
     "data": {
      "text/plain": [
       "<ggplot: (-9223371860153977360)>"
      ]
     },
     "execution_count": 10,
     "metadata": {},
     "output_type": "execute_result"
    }
   ],
   "source": [
    "\n",
    "(ggplot(data, aes(y='math_scale', x='gpa', color='factor(chronicly_absent)'))\n",
    " + geom_point()\n",
    " + facet_wrap(\"~grade+free_and_reduced\", ncol=2)\n",
    " + theme_minimal()\n",
    " + theme(legend_position = \"bottom\")\n",
    ")\n"
   ]
  },
  {
   "cell_type": "code",
   "execution_count": 54,
   "metadata": {},
   "outputs": [],
   "source": [
    "#convert the dataframe in to array\n",
    "y =(data['days_absent'])\n",
    "X =(data[[ 'writing_scale', 'math_scale','grade','act_taken','female','free_and_reduced','white', 'special_ed', 'white']])\n",
    "\n",
    "X_train, X_test, y_train, y_test = train_test_split(X, y, test_size=0.40, random_state=0)\n",
    "\n",
    "train_data = pd.concat([pd.DataFrame(y_train), pd.DataFrame(X_train)],axis=1, ignore_index=False)\n"
   ]
  },
  {
   "cell_type": "markdown",
   "metadata": {},
   "source": [
    "## Linear Regression"
   ]
  },
  {
   "cell_type": "code",
   "execution_count": 55,
   "metadata": {},
   "outputs": [
    {
     "data": {
      "text/html": [
       "<div>\n",
       "<style scoped>\n",
       "    .dataframe tbody tr th:only-of-type {\n",
       "        vertical-align: middle;\n",
       "    }\n",
       "\n",
       "    .dataframe tbody tr th {\n",
       "        vertical-align: top;\n",
       "    }\n",
       "\n",
       "    .dataframe thead th {\n",
       "        text-align: right;\n",
       "    }\n",
       "</style>\n",
       "<table border=\"1\" class=\"dataframe\">\n",
       "  <thead>\n",
       "    <tr style=\"text-align: right;\">\n",
       "      <th></th>\n",
       "      <th>days_absent</th>\n",
       "      <th>writing_scale</th>\n",
       "      <th>math_scale</th>\n",
       "      <th>grade</th>\n",
       "      <th>act_taken</th>\n",
       "      <th>female</th>\n",
       "      <th>free_and_reduced</th>\n",
       "      <th>white</th>\n",
       "      <th>special_ed</th>\n",
       "      <th>white</th>\n",
       "    </tr>\n",
       "  </thead>\n",
       "  <tbody>\n",
       "    <tr>\n",
       "      <th>345</th>\n",
       "      <td>4.90</td>\n",
       "      <td>625</td>\n",
       "      <td>711</td>\n",
       "      <td>9</td>\n",
       "      <td>0</td>\n",
       "      <td>0</td>\n",
       "      <td>0</td>\n",
       "      <td>0</td>\n",
       "      <td>0</td>\n",
       "      <td>0</td>\n",
       "    </tr>\n",
       "    <tr>\n",
       "      <th>313</th>\n",
       "      <td>0.00</td>\n",
       "      <td>613</td>\n",
       "      <td>688</td>\n",
       "      <td>10</td>\n",
       "      <td>1</td>\n",
       "      <td>0</td>\n",
       "      <td>0</td>\n",
       "      <td>1</td>\n",
       "      <td>0</td>\n",
       "      <td>1</td>\n",
       "    </tr>\n",
       "    <tr>\n",
       "      <th>242</th>\n",
       "      <td>0.24</td>\n",
       "      <td>545</td>\n",
       "      <td>626</td>\n",
       "      <td>9</td>\n",
       "      <td>0</td>\n",
       "      <td>0</td>\n",
       "      <td>0</td>\n",
       "      <td>0</td>\n",
       "      <td>0</td>\n",
       "      <td>0</td>\n",
       "    </tr>\n",
       "    <tr>\n",
       "      <th>500</th>\n",
       "      <td>2.18</td>\n",
       "      <td>666</td>\n",
       "      <td>596</td>\n",
       "      <td>9</td>\n",
       "      <td>0</td>\n",
       "      <td>0</td>\n",
       "      <td>0</td>\n",
       "      <td>1</td>\n",
       "      <td>0</td>\n",
       "      <td>1</td>\n",
       "    </tr>\n",
       "    <tr>\n",
       "      <th>170</th>\n",
       "      <td>1.68</td>\n",
       "      <td>601</td>\n",
       "      <td>616</td>\n",
       "      <td>9</td>\n",
       "      <td>0</td>\n",
       "      <td>1</td>\n",
       "      <td>0</td>\n",
       "      <td>1</td>\n",
       "      <td>0</td>\n",
       "      <td>1</td>\n",
       "    </tr>\n",
       "    <tr>\n",
       "      <th>...</th>\n",
       "      <td>...</td>\n",
       "      <td>...</td>\n",
       "      <td>...</td>\n",
       "      <td>...</td>\n",
       "      <td>...</td>\n",
       "      <td>...</td>\n",
       "      <td>...</td>\n",
       "      <td>...</td>\n",
       "      <td>...</td>\n",
       "      <td>...</td>\n",
       "    </tr>\n",
       "    <tr>\n",
       "      <th>1033</th>\n",
       "      <td>6.36</td>\n",
       "      <td>625</td>\n",
       "      <td>561</td>\n",
       "      <td>9</td>\n",
       "      <td>0</td>\n",
       "      <td>1</td>\n",
       "      <td>0</td>\n",
       "      <td>1</td>\n",
       "      <td>0</td>\n",
       "      <td>1</td>\n",
       "    </tr>\n",
       "    <tr>\n",
       "      <th>763</th>\n",
       "      <td>4.83</td>\n",
       "      <td>601</td>\n",
       "      <td>638</td>\n",
       "      <td>9</td>\n",
       "      <td>0</td>\n",
       "      <td>0</td>\n",
       "      <td>0</td>\n",
       "      <td>1</td>\n",
       "      <td>0</td>\n",
       "      <td>1</td>\n",
       "    </tr>\n",
       "    <tr>\n",
       "      <th>835</th>\n",
       "      <td>4.45</td>\n",
       "      <td>599</td>\n",
       "      <td>634</td>\n",
       "      <td>10</td>\n",
       "      <td>0</td>\n",
       "      <td>0</td>\n",
       "      <td>1</td>\n",
       "      <td>1</td>\n",
       "      <td>0</td>\n",
       "      <td>1</td>\n",
       "    </tr>\n",
       "    <tr>\n",
       "      <th>559</th>\n",
       "      <td>1.58</td>\n",
       "      <td>641</td>\n",
       "      <td>626</td>\n",
       "      <td>9</td>\n",
       "      <td>0</td>\n",
       "      <td>1</td>\n",
       "      <td>0</td>\n",
       "      <td>1</td>\n",
       "      <td>0</td>\n",
       "      <td>1</td>\n",
       "    </tr>\n",
       "    <tr>\n",
       "      <th>684</th>\n",
       "      <td>2.78</td>\n",
       "      <td>585</td>\n",
       "      <td>559</td>\n",
       "      <td>10</td>\n",
       "      <td>0</td>\n",
       "      <td>1</td>\n",
       "      <td>0</td>\n",
       "      <td>1</td>\n",
       "      <td>0</td>\n",
       "      <td>1</td>\n",
       "    </tr>\n",
       "  </tbody>\n",
       "</table>\n",
       "<p>639 rows × 10 columns</p>\n",
       "</div>"
      ],
      "text/plain": [
       "      days_absent  writing_scale  math_scale  grade  act_taken  female  \\\n",
       "345          4.90            625         711      9          0       0   \n",
       "313          0.00            613         688     10          1       0   \n",
       "242          0.24            545         626      9          0       0   \n",
       "500          2.18            666         596      9          0       0   \n",
       "170          1.68            601         616      9          0       1   \n",
       "...           ...            ...         ...    ...        ...     ...   \n",
       "1033         6.36            625         561      9          0       1   \n",
       "763          4.83            601         638      9          0       0   \n",
       "835          4.45            599         634     10          0       0   \n",
       "559          1.58            641         626      9          0       1   \n",
       "684          2.78            585         559     10          0       1   \n",
       "\n",
       "      free_and_reduced  white  special_ed  white  \n",
       "345                  0      0           0      0  \n",
       "313                  0      1           0      1  \n",
       "242                  0      0           0      0  \n",
       "500                  0      1           0      1  \n",
       "170                  0      1           0      1  \n",
       "...                ...    ...         ...    ...  \n",
       "1033                 0      1           0      1  \n",
       "763                  0      1           0      1  \n",
       "835                  1      1           0      1  \n",
       "559                  0      1           0      1  \n",
       "684                  0      1           0      1  \n",
       "\n",
       "[639 rows x 10 columns]"
      ]
     },
     "execution_count": 55,
     "metadata": {},
     "output_type": "execute_result"
    }
   ],
   "source": [
    "train_data"
   ]
  },
  {
   "cell_type": "code",
   "execution_count": 63,
   "metadata": {},
   "outputs": [
    {
     "data": {
      "text/html": [
       "<table class=\"simpletable\">\n",
       "<caption>OLS Regression Results</caption>\n",
       "<tr>\n",
       "  <th>Dep. Variable:</th>       <td>days_absent</td>   <th>  R-squared:         </th> <td>   0.175</td>\n",
       "</tr>\n",
       "<tr>\n",
       "  <th>Model:</th>                   <td>OLS</td>       <th>  Adj. R-squared:    </th> <td>   0.168</td>\n",
       "</tr>\n",
       "<tr>\n",
       "  <th>Method:</th>             <td>Least Squares</td>  <th>  F-statistic:       </th> <td>   26.84</td>\n",
       "</tr>\n",
       "<tr>\n",
       "  <th>Date:</th>             <td>Thu, 30 Apr 2020</td> <th>  Prob (F-statistic):</th> <td>1.18e-24</td>\n",
       "</tr>\n",
       "<tr>\n",
       "  <th>Time:</th>                 <td>19:16:28</td>     <th>  Log-Likelihood:    </th> <td> -2017.4</td>\n",
       "</tr>\n",
       "<tr>\n",
       "  <th>No. Observations:</th>      <td>   639</td>      <th>  AIC:               </th> <td>   4047.</td>\n",
       "</tr>\n",
       "<tr>\n",
       "  <th>Df Residuals:</th>          <td>   633</td>      <th>  BIC:               </th> <td>   4074.</td>\n",
       "</tr>\n",
       "<tr>\n",
       "  <th>Df Model:</th>              <td>     5</td>      <th>                     </th>     <td> </td>   \n",
       "</tr>\n",
       "<tr>\n",
       "  <th>Covariance Type:</th>      <td>nonrobust</td>    <th>                     </th>     <td> </td>   \n",
       "</tr>\n",
       "</table>\n",
       "<table class=\"simpletable\">\n",
       "<tr>\n",
       "          <td></td>            <th>coef</th>     <th>std err</th>      <th>t</th>      <th>P>|t|</th>  <th>[0.025</th>    <th>0.975]</th>  \n",
       "</tr>\n",
       "<tr>\n",
       "  <th>Intercept</th>        <td>   17.9892</td> <td>    2.490</td> <td>    7.225</td> <td> 0.000</td> <td>   13.100</td> <td>   22.878</td>\n",
       "</tr>\n",
       "<tr>\n",
       "  <th>writing_scale</th>    <td>   -0.0215</td> <td>    0.005</td> <td>   -4.582</td> <td> 0.000</td> <td>   -0.031</td> <td>   -0.012</td>\n",
       "</tr>\n",
       "<tr>\n",
       "  <th>math_scale</th>       <td>   -0.0027</td> <td>    0.004</td> <td>   -0.632</td> <td> 0.528</td> <td>   -0.011</td> <td>    0.006</td>\n",
       "</tr>\n",
       "<tr>\n",
       "  <th>female</th>           <td>    1.3876</td> <td>    0.467</td> <td>    2.972</td> <td> 0.003</td> <td>    0.471</td> <td>    2.305</td>\n",
       "</tr>\n",
       "<tr>\n",
       "  <th>free_and_reduced</th> <td>    5.5613</td> <td>    0.766</td> <td>    7.260</td> <td> 0.000</td> <td>    4.057</td> <td>    7.065</td>\n",
       "</tr>\n",
       "<tr>\n",
       "  <th>white[0]</th>         <td>    0.9776</td> <td>    0.320</td> <td>    3.053</td> <td> 0.002</td> <td>    0.349</td> <td>    1.606</td>\n",
       "</tr>\n",
       "<tr>\n",
       "  <th>white[1]</th>         <td>    0.9776</td> <td>    0.320</td> <td>    3.053</td> <td> 0.002</td> <td>    0.349</td> <td>    1.606</td>\n",
       "</tr>\n",
       "</table>\n",
       "<table class=\"simpletable\">\n",
       "<tr>\n",
       "  <th>Omnibus:</th>       <td>231.952</td> <th>  Durbin-Watson:     </th> <td>   2.037</td> \n",
       "</tr>\n",
       "<tr>\n",
       "  <th>Prob(Omnibus):</th> <td> 0.000</td>  <th>  Jarque-Bera (JB):  </th> <td> 931.532</td> \n",
       "</tr>\n",
       "<tr>\n",
       "  <th>Skew:</th>          <td> 1.648</td>  <th>  Prob(JB):          </th> <td>5.25e-203</td>\n",
       "</tr>\n",
       "<tr>\n",
       "  <th>Kurtosis:</th>      <td> 7.912</td>  <th>  Cond. No.          </th> <td>5.88e+19</td> \n",
       "</tr>\n",
       "</table><br/><br/>Warnings:<br/>[1] Standard Errors assume that the covariance matrix of the errors is correctly specified.<br/>[2] The smallest eigenvalue is 1.39e-31. This might indicate that there are<br/>strong multicollinearity problems or that the design matrix is singular."
      ],
      "text/plain": [
       "<class 'statsmodels.iolib.summary.Summary'>\n",
       "\"\"\"\n",
       "                            OLS Regression Results                            \n",
       "==============================================================================\n",
       "Dep. Variable:            days_absent   R-squared:                       0.175\n",
       "Model:                            OLS   Adj. R-squared:                  0.168\n",
       "Method:                 Least Squares   F-statistic:                     26.84\n",
       "Date:                Thu, 30 Apr 2020   Prob (F-statistic):           1.18e-24\n",
       "Time:                        19:16:28   Log-Likelihood:                -2017.4\n",
       "No. Observations:                 639   AIC:                             4047.\n",
       "Df Residuals:                     633   BIC:                             4074.\n",
       "Df Model:                           5                                         \n",
       "Covariance Type:            nonrobust                                         \n",
       "====================================================================================\n",
       "                       coef    std err          t      P>|t|      [0.025      0.975]\n",
       "------------------------------------------------------------------------------------\n",
       "Intercept           17.9892      2.490      7.225      0.000      13.100      22.878\n",
       "writing_scale       -0.0215      0.005     -4.582      0.000      -0.031      -0.012\n",
       "math_scale          -0.0027      0.004     -0.632      0.528      -0.011       0.006\n",
       "female               1.3876      0.467      2.972      0.003       0.471       2.305\n",
       "free_and_reduced     5.5613      0.766      7.260      0.000       4.057       7.065\n",
       "white[0]             0.9776      0.320      3.053      0.002       0.349       1.606\n",
       "white[1]             0.9776      0.320      3.053      0.002       0.349       1.606\n",
       "==============================================================================\n",
       "Omnibus:                      231.952   Durbin-Watson:                   2.037\n",
       "Prob(Omnibus):                  0.000   Jarque-Bera (JB):              931.532\n",
       "Skew:                           1.648   Prob(JB):                    5.25e-203\n",
       "Kurtosis:                       7.912   Cond. No.                     5.88e+19\n",
       "==============================================================================\n",
       "\n",
       "Warnings:\n",
       "[1] Standard Errors assume that the covariance matrix of the errors is correctly specified.\n",
       "[2] The smallest eigenvalue is 1.39e-31. This might indicate that there are\n",
       "strong multicollinearity problems or that the design matrix is singular.\n",
       "\"\"\""
      ]
     },
     "execution_count": 63,
     "metadata": {},
     "output_type": "execute_result"
    }
   ],
   "source": [
    "train_data = pd.concat([pd.DataFrame(y_train), pd.DataFrame(X_train)],axis=1, ignore_index=False)\n",
    "\n",
    "import statsmodels.formula.api as smf # for predictive model 1 - continuous dependent varible \n",
    "import statsmodels.api as sm\n",
    "\n",
    "results = smf.ols('days_absent ~ writing_scale + math_scale+female+free_and_reduced+white', train_data).fit()\n",
    "results.summary()"
   ]
  },
  {
   "cell_type": "markdown",
   "metadata": {},
   "source": [
    "## ANOVA"
   ]
  },
  {
   "cell_type": "code",
   "execution_count": 13,
   "metadata": {},
   "outputs": [
    {
     "data": {
      "text/html": [
       "<div>\n",
       "<style scoped>\n",
       "    .dataframe tbody tr th:only-of-type {\n",
       "        vertical-align: middle;\n",
       "    }\n",
       "\n",
       "    .dataframe tbody tr th {\n",
       "        vertical-align: top;\n",
       "    }\n",
       "\n",
       "    .dataframe thead th {\n",
       "        text-align: right;\n",
       "    }\n",
       "</style>\n",
       "<table border=\"1\" class=\"dataframe\">\n",
       "  <thead>\n",
       "    <tr style=\"text-align: right;\">\n",
       "      <th></th>\n",
       "      <th>df</th>\n",
       "      <th>sum_sq</th>\n",
       "      <th>mean_sq</th>\n",
       "      <th>F</th>\n",
       "      <th>PR(&gt;F)</th>\n",
       "    </tr>\n",
       "  </thead>\n",
       "  <tbody>\n",
       "    <tr>\n",
       "      <th>writing_scale</th>\n",
       "      <td>1.0</td>\n",
       "      <td>1889.415808</td>\n",
       "      <td>1889.415808</td>\n",
       "      <td>56.171475</td>\n",
       "      <td>1.401196e-13</td>\n",
       "    </tr>\n",
       "    <tr>\n",
       "      <th>math_scale</th>\n",
       "      <td>1.0</td>\n",
       "      <td>357.352719</td>\n",
       "      <td>357.352719</td>\n",
       "      <td>10.623934</td>\n",
       "      <td>1.151927e-03</td>\n",
       "    </tr>\n",
       "    <tr>\n",
       "      <th>read_scale</th>\n",
       "      <td>1.0</td>\n",
       "      <td>172.866725</td>\n",
       "      <td>172.866725</td>\n",
       "      <td>5.139249</td>\n",
       "      <td>2.359210e-02</td>\n",
       "    </tr>\n",
       "    <tr>\n",
       "      <th>grade</th>\n",
       "      <td>1.0</td>\n",
       "      <td>516.377110</td>\n",
       "      <td>516.377110</td>\n",
       "      <td>15.351657</td>\n",
       "      <td>9.497579e-05</td>\n",
       "    </tr>\n",
       "    <tr>\n",
       "      <th>act_taken</th>\n",
       "      <td>1.0</td>\n",
       "      <td>410.484403</td>\n",
       "      <td>410.484403</td>\n",
       "      <td>12.203515</td>\n",
       "      <td>4.967376e-04</td>\n",
       "    </tr>\n",
       "    <tr>\n",
       "      <th>female</th>\n",
       "      <td>1.0</td>\n",
       "      <td>445.315009</td>\n",
       "      <td>445.315009</td>\n",
       "      <td>13.239013</td>\n",
       "      <td>2.874313e-04</td>\n",
       "    </tr>\n",
       "    <tr>\n",
       "      <th>free_and_reduced</th>\n",
       "      <td>1.0</td>\n",
       "      <td>1319.135325</td>\n",
       "      <td>1319.135325</td>\n",
       "      <td>39.217295</td>\n",
       "      <td>5.505980e-10</td>\n",
       "    </tr>\n",
       "    <tr>\n",
       "      <th>white</th>\n",
       "      <td>1.0</td>\n",
       "      <td>490.202428</td>\n",
       "      <td>490.202428</td>\n",
       "      <td>14.573496</td>\n",
       "      <td>1.426286e-04</td>\n",
       "    </tr>\n",
       "    <tr>\n",
       "      <th>Residual</th>\n",
       "      <td>1057.0</td>\n",
       "      <td>35553.855801</td>\n",
       "      <td>33.636571</td>\n",
       "      <td>NaN</td>\n",
       "      <td>NaN</td>\n",
       "    </tr>\n",
       "  </tbody>\n",
       "</table>\n",
       "</div>"
      ],
      "text/plain": [
       "                      df        sum_sq      mean_sq          F        PR(>F)\n",
       "writing_scale        1.0   1889.415808  1889.415808  56.171475  1.401196e-13\n",
       "math_scale           1.0    357.352719   357.352719  10.623934  1.151927e-03\n",
       "read_scale           1.0    172.866725   172.866725   5.139249  2.359210e-02\n",
       "grade                1.0    516.377110   516.377110  15.351657  9.497579e-05\n",
       "act_taken            1.0    410.484403   410.484403  12.203515  4.967376e-04\n",
       "female               1.0    445.315009   445.315009  13.239013  2.874313e-04\n",
       "free_and_reduced     1.0   1319.135325  1319.135325  39.217295  5.505980e-10\n",
       "white                1.0    490.202428   490.202428  14.573496  1.426286e-04\n",
       "Residual          1057.0  35553.855801    33.636571        NaN           NaN"
      ]
     },
     "execution_count": 13,
     "metadata": {},
     "output_type": "execute_result"
    }
   ],
   "source": [
    "anova_table = sm.stats.anova_lm(results, typ=1) \n",
    "anova_table\n"
   ]
  },
  {
   "cell_type": "code",
   "execution_count": 102,
   "metadata": {},
   "outputs": [
    {
     "data": {
      "text/html": [
       "<div>\n",
       "<style scoped>\n",
       "    .dataframe tbody tr th:only-of-type {\n",
       "        vertical-align: middle;\n",
       "    }\n",
       "\n",
       "    .dataframe tbody tr th {\n",
       "        vertical-align: top;\n",
       "    }\n",
       "\n",
       "    .dataframe thead th {\n",
       "        text-align: right;\n",
       "    }\n",
       "</style>\n",
       "<table border=\"1\" class=\"dataframe\">\n",
       "  <thead>\n",
       "    <tr style=\"text-align: right;\">\n",
       "      <th></th>\n",
       "      <th>item</th>\n",
       "    </tr>\n",
       "  </thead>\n",
       "  <tbody>\n",
       "    <tr>\n",
       "      <th>0</th>\n",
       "      <td>0</td>\n",
       "    </tr>\n",
       "    <tr>\n",
       "      <th>1</th>\n",
       "      <td>1</td>\n",
       "    </tr>\n",
       "    <tr>\n",
       "      <th>2</th>\n",
       "      <td>2</td>\n",
       "    </tr>\n",
       "    <tr>\n",
       "      <th>3</th>\n",
       "      <td>3</td>\n",
       "    </tr>\n",
       "    <tr>\n",
       "      <th>4</th>\n",
       "      <td>4</td>\n",
       "    </tr>\n",
       "    <tr>\n",
       "      <th>...</th>\n",
       "      <td>...</td>\n",
       "    </tr>\n",
       "    <tr>\n",
       "      <th>422</th>\n",
       "      <td>422</td>\n",
       "    </tr>\n",
       "    <tr>\n",
       "      <th>423</th>\n",
       "      <td>423</td>\n",
       "    </tr>\n",
       "    <tr>\n",
       "      <th>424</th>\n",
       "      <td>424</td>\n",
       "    </tr>\n",
       "    <tr>\n",
       "      <th>425</th>\n",
       "      <td>425</td>\n",
       "    </tr>\n",
       "    <tr>\n",
       "      <th>426</th>\n",
       "      <td>426</td>\n",
       "    </tr>\n",
       "  </tbody>\n",
       "</table>\n",
       "<p>427 rows × 1 columns</p>\n",
       "</div>"
      ],
      "text/plain": [
       "     item\n",
       "0       0\n",
       "1       1\n",
       "2       2\n",
       "3       3\n",
       "4       4\n",
       "..    ...\n",
       "422   422\n",
       "423   423\n",
       "424   424\n",
       "425   425\n",
       "426   426\n",
       "\n",
       "[427 rows x 1 columns]"
      ]
     },
     "execution_count": 102,
     "metadata": {},
     "output_type": "execute_result"
    }
   ],
   "source": [
    "t=range(y_test.size)\n",
    "size = pd.DataFrame({'item':t})\n",
    "size"
   ]
  },
  {
   "cell_type": "code",
   "execution_count": 117,
   "metadata": {},
   "outputs": [
    {
     "data": {
      "image/png": "[encoded data removed]",
      "text/plain": [
       "<Figure size 640x480 with 1 Axes>"
      ]
     },
     "metadata": {
      "needs_background": "light"
     },
     "output_type": "display_data"
    },
    {
     "data": {
      "text/plain": [
       "<ggplot: (-9223371860151328492)>"
      ]
     },
     "execution_count": 117,
     "metadata": {},
     "output_type": "execute_result"
    }
   ],
   "source": [
    "pred_vals = pd.DataFrame({ 'absences':results.predict(X_test), 'Source': \"Prediction\"}).reset_index()\n",
    "pred_vals\n",
    "\n",
    "act_vals = pd.DataFrame({'absences':y_test, 'Source': \"Actual\"}).reset_index()\n",
    "\n",
    "\n",
    "combo= pd.concat([pred_vals, act_vals])\n",
    "\n",
    "\n",
    "\n",
    "\n",
    "(ggplot(combo, aes(y='absences', x='index', fill='Source'))\n",
    " + geom_bar(stat='identity', position='dodge')\n",
    " + theme_minimal()\n",
    " + theme(legend_position = \"bottom\")\n",
    " + labs(title = \"Actual vs Predicted Absences\", \n",
    "       x=\"\", y=\"Absences\", )\n",
    ")\n",
    "\n"
   ]
  },
  {
   "cell_type": "markdown",
   "metadata": {},
   "source": [
    "## Preprocessing"
   ]
  },
  {
   "cell_type": "code",
   "execution_count": 24,
   "metadata": {},
   "outputs": [],
   "source": [
    "y =(data['chronicly_absent'])\n",
    "X =(data[[ 'writing_scale', 'math_scale','grade','act_taken','female','free_and_reduced','white', 'gifted','special_ed']])\n",
    "\n",
    "X_train, X_test, y_train, y_test = train_test_split(X, y, test_size=0.40, random_state=0)"
   ]
  },
  {
   "cell_type": "markdown",
   "metadata": {},
   "source": [
    "## Logistic Regression"
   ]
  },
  {
   "cell_type": "code",
   "execution_count": 25,
   "metadata": {},
   "outputs": [
    {
     "name": "stdout",
     "output_type": "stream",
     "text": [
      "Optimization terminated successfully.\n",
      "         Current function value: 0.170384\n",
      "         Iterations 8\n"
     ]
    },
    {
     "data": {
      "text/html": [
       "<table class=\"simpletable\">\n",
       "<caption>Logit Regression Results</caption>\n",
       "<tr>\n",
       "  <th>Dep. Variable:</th>   <td>chronicly_absent</td> <th>  No. Observations:  </th>  <td>   639</td>  \n",
       "</tr>\n",
       "<tr>\n",
       "  <th>Model:</th>                 <td>Logit</td>      <th>  Df Residuals:      </th>  <td>   630</td>  \n",
       "</tr>\n",
       "<tr>\n",
       "  <th>Method:</th>                 <td>MLE</td>       <th>  Df Model:          </th>  <td>     8</td>  \n",
       "</tr>\n",
       "<tr>\n",
       "  <th>Date:</th>            <td>Thu, 30 Apr 2020</td> <th>  Pseudo R-squ.:     </th>  <td>0.2296</td>  \n",
       "</tr>\n",
       "<tr>\n",
       "  <th>Time:</th>                <td>18:05:34</td>     <th>  Log-Likelihood:    </th> <td> -108.88</td> \n",
       "</tr>\n",
       "<tr>\n",
       "  <th>converged:</th>             <td>True</td>       <th>  LL-Null:           </th> <td> -141.32</td> \n",
       "</tr>\n",
       "<tr>\n",
       "  <th>Covariance Type:</th>     <td>nonrobust</td>    <th>  LLR p-value:       </th> <td>5.075e-11</td>\n",
       "</tr>\n",
       "</table>\n",
       "<table class=\"simpletable\">\n",
       "<tr>\n",
       "          <td></td>            <th>coef</th>     <th>std err</th>      <th>z</th>      <th>P>|z|</th>  <th>[0.025</th>    <th>0.975]</th>  \n",
       "</tr>\n",
       "<tr>\n",
       "  <th>writing_scale</th>    <td>   -0.0080</td> <td>    0.003</td> <td>   -2.687</td> <td> 0.007</td> <td>   -0.014</td> <td>   -0.002</td>\n",
       "</tr>\n",
       "<tr>\n",
       "  <th>math_scale</th>       <td>   -0.0065</td> <td>    0.004</td> <td>   -1.845</td> <td> 0.065</td> <td>   -0.013</td> <td>    0.000</td>\n",
       "</tr>\n",
       "<tr>\n",
       "  <th>grade</th>            <td>    0.3949</td> <td>    0.189</td> <td>    2.095</td> <td> 0.036</td> <td>    0.025</td> <td>    0.764</td>\n",
       "</tr>\n",
       "<tr>\n",
       "  <th>act_taken</th>        <td>   -0.2565</td> <td>    0.514</td> <td>   -0.499</td> <td> 0.618</td> <td>   -1.264</td> <td>    0.751</td>\n",
       "</tr>\n",
       "<tr>\n",
       "  <th>female</th>           <td>    0.2929</td> <td>    0.380</td> <td>    0.770</td> <td> 0.441</td> <td>   -0.453</td> <td>    1.038</td>\n",
       "</tr>\n",
       "<tr>\n",
       "  <th>free_and_reduced</th> <td>    1.8986</td> <td>    0.405</td> <td>    4.683</td> <td> 0.000</td> <td>    1.104</td> <td>    2.693</td>\n",
       "</tr>\n",
       "<tr>\n",
       "  <th>white</th>            <td>    1.3181</td> <td>    0.830</td> <td>    1.587</td> <td> 0.112</td> <td>   -0.309</td> <td>    2.945</td>\n",
       "</tr>\n",
       "<tr>\n",
       "  <th>gifted</th>           <td>    0.1607</td> <td>    1.111</td> <td>    0.145</td> <td> 0.885</td> <td>   -2.016</td> <td>    2.337</td>\n",
       "</tr>\n",
       "<tr>\n",
       "  <th>special_ed</th>       <td>    0.1507</td> <td>    0.521</td> <td>    0.290</td> <td> 0.772</td> <td>   -0.870</td> <td>    1.171</td>\n",
       "</tr>\n",
       "</table>"
      ],
      "text/plain": [
       "<class 'statsmodels.iolib.summary.Summary'>\n",
       "\"\"\"\n",
       "                           Logit Regression Results                           \n",
       "==============================================================================\n",
       "Dep. Variable:       chronicly_absent   No. Observations:                  639\n",
       "Model:                          Logit   Df Residuals:                      630\n",
       "Method:                           MLE   Df Model:                            8\n",
       "Date:                Thu, 30 Apr 2020   Pseudo R-squ.:                  0.2296\n",
       "Time:                        18:05:34   Log-Likelihood:                -108.88\n",
       "converged:                       True   LL-Null:                       -141.32\n",
       "Covariance Type:            nonrobust   LLR p-value:                 5.075e-11\n",
       "====================================================================================\n",
       "                       coef    std err          z      P>|z|      [0.025      0.975]\n",
       "------------------------------------------------------------------------------------\n",
       "writing_scale       -0.0080      0.003     -2.687      0.007      -0.014      -0.002\n",
       "math_scale          -0.0065      0.004     -1.845      0.065      -0.013       0.000\n",
       "grade                0.3949      0.189      2.095      0.036       0.025       0.764\n",
       "act_taken           -0.2565      0.514     -0.499      0.618      -1.264       0.751\n",
       "female               0.2929      0.380      0.770      0.441      -0.453       1.038\n",
       "free_and_reduced     1.8986      0.405      4.683      0.000       1.104       2.693\n",
       "white                1.3181      0.830      1.587      0.112      -0.309       2.945\n",
       "gifted               0.1607      1.111      0.145      0.885      -2.016       2.337\n",
       "special_ed           0.1507      0.521      0.290      0.772      -0.870       1.171\n",
       "====================================================================================\n",
       "\"\"\""
      ]
     },
     "execution_count": 25,
     "metadata": {},
     "output_type": "execute_result"
    }
   ],
   "source": [
    "\n",
    "logit_model = sm.Logit(y_train,X_train) #creating a model and passing the data\n",
    "logit_fit = logit_model.fit() #fitting the model\n",
    "logit_fit.summary() #displaying the result\n",
    "\n",
    "\n"
   ]
  },
  {
   "cell_type": "code",
   "execution_count": 26,
   "metadata": {
    "scrolled": true
   },
   "outputs": [
    {
     "name": "stdout",
     "output_type": "stream",
     "text": [
      "True +: 16   False +:  29 \n",
      "False -: 21  True -: 573\n"
     ]
    }
   ],
   "source": [
    "pred= logit_fit.predict(X_train)  #predict method of fitted model logit_res\n",
    "pred2 = pred > 0.2\n",
    "pred2 = pred2.astype(int)\n",
    "pred2\n",
    "\n",
    "pred_df = pd. DataFrame({\"Prediction\": pred2, \"Actual\":y_train})\n",
    "pos_pred = pred_df[\"Prediction\"] == 1\n",
    "neg_pred = pred_df[\"Prediction\"] == 0\n",
    "pos_act = pred_df[\"Actual\"] == 1\n",
    "neg_act = pred_df[\"Actual\"] == 0\n",
    "\n",
    "true_pos = pred_df[pos_pred & pos_act]\n",
    "true_neg = pred_df[neg_pred & neg_act]\n",
    "false_pos = pred_df[pos_pred & neg_act]\n",
    "false_neg = pred_df[neg_pred & pos_act]\n",
    "\n",
    "print(\"True +:\", len(true_pos.index), \"  False +: \", len(false_pos.index), \"\\n\" \n",
    "     \"False -:\", len(false_neg.index), \" True -:\", len(true_neg.index))"
   ]
  },
  {
   "cell_type": "code",
   "execution_count": 27,
   "metadata": {},
   "outputs": [
    {
     "name": "stdout",
     "output_type": "stream",
     "text": [
      "True +: 4   False +:  19 \n",
      "False -: 14  True -: 390\n"
     ]
    }
   ],
   "source": [
    "pred= logit_fit.predict(X_test)  #predict method of fitted model logit_res\n",
    "pred2 = pred > 0.2\n",
    "pred2 = pred2.astype(int)\n",
    "pred2\n",
    "\n",
    "pred_df = pd. DataFrame({\"Prediction\": pred2, \"Actual\":y_test})\n",
    "pos_pred = pred_df[\"Prediction\"] == 1\n",
    "neg_pred = pred_df[\"Prediction\"] == 0\n",
    "pos_act = pred_df[\"Actual\"] == 1\n",
    "neg_act = pred_df[\"Actual\"] == 0\n",
    "\n",
    "true_pos = pred_df[pos_pred & pos_act]\n",
    "true_neg = pred_df[neg_pred & neg_act]\n",
    "false_pos = pred_df[pos_pred & neg_act]\n",
    "false_neg = pred_df[neg_pred & pos_act]\n",
    "\n",
    "print(\"True +:\", len(true_pos.index), \"  False +: \", len(false_pos.index), \"\\n\" \n",
    "     \"False -:\", len(false_neg.index), \" True -:\", len(true_neg.index))"
   ]
  },
  {
   "cell_type": "markdown",
   "metadata": {},
   "source": [
    "## Decision Tree"
   ]
  },
  {
   "cell_type": "code",
   "execution_count": null,
   "metadata": {},
   "outputs": [],
   "source": [
    "y =np.array(data['chronicly_absent'])\n",
    "X =np.array(data[[ 'writing_scale', 'math_scale','grade','act_taken','female','free_and_reduced','white', 'gifted','special_ed']])\n",
    "\n",
    "X_train, X_test, y_train, y_test = train_test_split(X, y, test_size=0.40, random_state=0)"
   ]
  },
  {
   "cell_type": "code",
   "execution_count": null,
   "metadata": {},
   "outputs": [],
   "source": [
    "\n",
    "tree.plot_tree(clf_model,  filled=True, rounded= True)\n",
    "plt.show()"
   ]
  },
  {
   "cell_type": "code",
   "execution_count": null,
   "metadata": {},
   "outputs": [],
   "source": [
    "#calling the model and giving a name clf_model so as to use it again; \n",
    "#random state set the seed so that output is reproducible\n",
    "clf_model = tree.DecisionTreeClassifier(random_state=0)\n",
    "clf_model\n",
    "\n",
    "clf_model.fit(X_train,y_train)\n",
    "clf_model\n",
    "\n",
    "path = clf_model.cost_complexity_pruning_path(X_train, y_train)\n",
    "ccp_alphas, impurities = path.ccp_alphas, path.impurities\n",
    "\n",
    "fig, ax = plt.subplots()\n",
    "ax.plot(ccp_alphas[:-1], impurities[:-1], marker='o', drawstyle=\"steps-post\")\n",
    "ax.set_xlabel(\"effective alpha\")\n",
    "ax.set_ylabel(\"total impurity of leaves\")\n",
    "ax.set_title(\"Total Impurity vs effective alpha for training set\")\n",
    "\n",
    "\n"
   ]
  },
  {
   "cell_type": "code",
   "execution_count": null,
   "metadata": {},
   "outputs": [],
   "source": [
    "final_tree = clfs[-5]\n",
    "pred = final_tree.predict(X_train)\n",
    "\n",
    "\n",
    "\n",
    "pred_df = pd. DataFrame({\"Prediction\": pred, \"Actual\":y_train})\n",
    "pos_pred = pred_df[\"Prediction\"] == 1\n",
    "neg_pred = pred_df[\"Prediction\"] == 0\n",
    "pos_act = pred_df[\"Actual\"] == 1\n",
    "neg_act = pred_df[\"Actual\"] == 0\n",
    "\n",
    "true_pos = pred_df[pos_pred & pos_act]\n",
    "true_neg = pred_df[neg_pred & neg_act]\n",
    "false_pos = pred_df[pos_pred & neg_act]\n",
    "false_neg = pred_df[neg_pred & pos_act]\n",
    "\n",
    "print(\"True +:\", len(true_pos.index), \"  False +: \", len(false_pos.index), \"\\n\" \n",
    "     \"False -:\", len(false_neg.index), \" True -:\", len(true_neg.index))"
   ]
  },
  {
   "cell_type": "code",
   "execution_count": null,
   "metadata": {},
   "outputs": [],
   "source": [
    "pred = clf_model.predict(X_test)\n",
    "\n",
    "\n",
    "\n",
    "pred_df = pd. DataFrame({\"Prediction\": pred, \"Actual\":y_test})\n",
    "pos_pred = pred_df[\"Prediction\"] == 1\n",
    "neg_pred = pred_df[\"Prediction\"] == 0\n",
    "pos_act = pred_df[\"Actual\"] == 1\n",
    "neg_act = pred_df[\"Actual\"] == 0\n",
    "\n",
    "true_pos = pred_df[pos_pred & pos_act]\n",
    "true_neg = pred_df[neg_pred & neg_act]\n",
    "false_pos = pred_df[pos_pred & neg_act]\n",
    "false_neg = pred_df[neg_pred & pos_act]\n",
    "\n",
    "print(\"True +:\", len(true_pos.index), \"  False +: \", len(false_pos.index), \"\\n\" \n",
    "     \"False -:\", len(false_neg.index), \" True -:\", len(true_neg.index))"
   ]
  },
  {
   "cell_type": "code",
   "execution_count": null,
   "metadata": {},
   "outputs": [],
   "source": [
    "from sklearn.tree import DecisionTreeClassifier\n",
    "clfs = []\n",
    "for ccp_alpha in ccp_alphas:\n",
    "    clf = DecisionTreeClassifier(random_state=0, ccp_alpha=ccp_alpha)\n",
    "    clf.fit(X_train, y_train)\n",
    "    clfs.append(clf)\n",
    "print(\"Number of nodes in the last tree is: {} with ccp_alpha: {}\".format(\n",
    "      clfs[-1].tree_.node_count, ccp_alphas[-1]))\n",
    "\n",
    "clfs = clfs[:-1]\n",
    "ccp_alphas = ccp_alphas[:-1]\n",
    "\n",
    "node_counts = [clf.tree_.node_count for clf in clfs]\n",
    "depth = [clf.tree_.max_depth for clf in clfs]\n",
    "fig, ax = plt.subplots(2, 1)\n",
    "ax[0].plot(ccp_alphas, node_counts, marker='o', drawstyle=\"steps-post\")\n",
    "ax[0].set_xlabel(\"alpha\")\n",
    "ax[0].set_ylabel(\"number of nodes\")\n",
    "ax[0].set_title(\"Number of nodes vs alpha\")\n",
    "ax[1].plot(ccp_alphas, depth, marker='o', drawstyle=\"steps-post\")\n",
    "ax[1].set_xlabel(\"alpha\")\n",
    "ax[1].set_ylabel(\"depth of tree\")\n",
    "ax[1].set_title(\"Depth vs alpha\")\n",
    "fig.tight_layout()"
   ]
  },
  {
   "cell_type": "code",
   "execution_count": null,
   "metadata": {},
   "outputs": [],
   "source": [
    "train_scores = [clf.score(X_train, y_train) for clf in clfs]\n",
    "test_scores = [clf.score(X_test, y_test) for clf in clfs]\n",
    "\n",
    "fig, ax = plt.subplots()\n",
    "ax.set_xlabel(\"alpha\")\n",
    "ax.set_ylabel(\"accuracy\")\n",
    "ax.set_title(\"Accuracy vs alpha for training and testing sets\")\n",
    "ax.plot(ccp_alphas, train_scores, marker='o', label=\"train\",\n",
    "        drawstyle=\"steps-post\")\n",
    "ax.plot(ccp_alphas, test_scores, marker='o', label=\"test\",\n",
    "        drawstyle=\"steps-post\")\n",
    "ax.legend()\n",
    "plt.show()"
   ]
  },
  {
   "cell_type": "code",
   "execution_count": null,
   "metadata": {},
   "outputs": [],
   "source": [
    "X =(data[[ 'writing_scale', 'math_scale','grade','act_taken','female','free_and_reduced','white', 'gifted','special_ed', 'white']])\n",
    "tree.plot_tree(clfs[-2],  filled=True, rounded= True, feature_names=X.columns)\n",
    "plt.show()"
   ]
  },
  {
   "cell_type": "code",
   "execution_count": null,
   "metadata": {},
   "outputs": [],
   "source": [
    "final_tree = clfs[-2]\n",
    "pred = final_tree.predict(X_train)\n",
    "\n",
    "\n",
    "\n",
    "pred_df = pd. DataFrame({\"Prediction\": pred, \"Actual\":y_train})\n",
    "pos_pred = pred_df[\"Prediction\"] == 1\n",
    "neg_pred = pred_df[\"Prediction\"] == 0\n",
    "pos_act = pred_df[\"Actual\"] == 1\n",
    "neg_act = pred_df[\"Actual\"] == 0\n",
    "\n",
    "true_pos = pred_df[pos_pred & pos_act]\n",
    "true_neg = pred_df[neg_pred & neg_act]\n",
    "false_pos = pred_df[pos_pred & neg_act]\n",
    "false_neg = pred_df[neg_pred & pos_act]\n",
    "\n",
    "print(\"True +:\", len(true_pos.index), \"  False +: \", len(false_pos.index), \"\\n\" \n",
    "     \"False -:\", len(false_neg.index), \" True -:\", len(true_neg.index))"
   ]
  },
  {
   "cell_type": "code",
   "execution_count": null,
   "metadata": {},
   "outputs": [],
   "source": [
    "\n",
    "pred = final_tree.predict(X_test)\n",
    "\n",
    "\n",
    "\n",
    "pred_df = pd. DataFrame({\"Prediction\": pred, \"Actual\":y_test})\n",
    "pos_pred = pred_df[\"Prediction\"] == 1\n",
    "neg_pred = pred_df[\"Prediction\"] == 0\n",
    "pos_act = pred_df[\"Actual\"] == 1\n",
    "neg_act = pred_df[\"Actual\"] == 0\n",
    "\n",
    "true_pos = pred_df[pos_pred & pos_act]\n",
    "true_neg = pred_df[neg_pred & neg_act]\n",
    "false_pos = pred_df[pos_pred & neg_act]\n",
    "false_neg = pred_df[neg_pred & pos_act]\n",
    "\n",
    "print(\"True +:\", len(true_pos.index), \"  False +: \", len(false_pos.index), \"\\n\" \n",
    "     \"False -:\", len(false_neg.index), \" True -:\", len(true_neg.index))"
   ]
  },
  {
   "cell_type": "markdown",
   "metadata": {},
   "source": [
    "## Clustering"
   ]
  }
 ],
 "metadata": {
  "kernelspec": {
   "display_name": "Python 3",
   "language": "python",
   "name": "python3"
  },
  "language_info": {
   "codemirror_mode": {
    "name": "ipython",
    "version": 3
   },
   "file_extension": ".py",
   "mimetype": "text/x-python",
   "name": "python",
   "nbconvert_exporter": "python",
   "pygments_lexer": "ipython3",
   "version": "3.7.4"
  }
 },
 "nbformat": 4,
 "nbformat_minor": 4
}
