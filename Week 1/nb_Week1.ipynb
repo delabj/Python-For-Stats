{
 "cells": [
  {
   "cell_type": "markdown",
   "metadata": {},
   "source": [
    "# First look - Python working on a dataset\n",
    "\n",
    "Review Example Dataset: Home Loan applications \n",
    "\n",
    "Reference: Wooldridge, J. M. (2012). Introductory Econometrics: A Modern Approach (5th ed.)"
   ]
  },
  {
   "cell_type": "code",
   "execution_count": null,
   "metadata": {},
   "outputs": [],
   "source": [
    "#Importing Packages \n",
    "import pandas as pd \n",
    "import numpy as np\n",
    "import matplotlib.pyplot as plt #for plots\n",
    "import seaborn as sns #for plots\n",
    "\n",
    "#Setting up asethetics: how the answers are printed, I just want upto 4 decimal points. \n",
    "pd.set_option(\"display.float_format\", lambda x: \"%.4f\" % x) \n",
    "np.set_printoptions(precision=4, suppress=True)"
   ]
  },
  {
   "cell_type": "markdown",
   "metadata": {},
   "source": [
    "## Reading the Data"
   ]
  },
  {
   "cell_type": "code",
   "execution_count": null,
   "metadata": {},
   "outputs": [],
   "source": [
    "source_dir = \"G:\\\\My Drive\\\\Week1\\\\\" #path of the file on my local computer \n",
    "\n",
    "data_file = pd.read_csv(source_dir + \"loanapp.csv\", #path + name of excel file\n",
    "                    header=0) #which row gives the column names; \n",
    "                    #Python counter starts from 0, so header = 1 means row 2 in excel\n",
    "                     \n",
    "# We just need to use one column in the data, therefore we will rename that \n",
    "# column as returns. \n",
    "data = data_file[['loanamt', 'married', 'atotinc', 'price', 'apr', 'pubrec', 'male', 'mortno']]\n",
    "data"
   ]
  },
  {
   "cell_type": "markdown",
   "metadata": {},
   "source": [
    "## Descriptive Statistics\n",
    "\n"
   ]
  },
  {
   "cell_type": "code",
   "execution_count": null,
   "metadata": {},
   "outputs": [],
   "source": [
    "data.describe(include='all')"
   ]
  },
  {
   "cell_type": "code",
   "execution_count": null,
   "metadata": {},
   "outputs": [],
   "source": [
    "data.describe(include='all', percentiles = [0.85]) #I want to generate a specific percentile"
   ]
  },
  {
   "cell_type": "code",
   "execution_count": null,
   "metadata": {},
   "outputs": [],
   "source": [
    "sns.distplot(data['loanamt'], kde=True); #with kernel density plot "
   ]
  },
  {
   "cell_type": "code",
   "execution_count": null,
   "metadata": {},
   "outputs": [],
   "source": [
    "from scipy.stats import norm # should import in Preamble\n",
    "\n",
    "sns.distplot(data['loanamt'], fit=norm, kde=False); # fit normal distribution plots"
   ]
  },
  {
   "cell_type": "markdown",
   "metadata": {},
   "source": [
    "## Predictive Model 1 - Linear Regression \n",
    "Predict Loan Amount in thousands (variable name - loanamt; continuous).\n",
    "We wil use four explantory variables: \n",
    "1. Married (Variable name - married; categorical = 1 if married)\n",
    "2. Total monthly income of the applicant (Variable name - atotinc; continuous)\n",
    "3. Purchase price in thousand (Variable name - price; continuous)\n",
    "4. Appraised value in thousand (Variable name - apr; continuous)\n",
    "\n",
    "There are many different combinations of explantory variables. Apart from domain knowledge; we will learn about more structural ways of selecting explanatory variables - a.k.a. Feature Selection in Python."
   ]
  },
  {
   "cell_type": "code",
   "execution_count": null,
   "metadata": {},
   "outputs": [],
   "source": [
    "from statsmodels.formula.api import ols # for predictive model 1 - continuous dependent varible \n",
    "from statsmodels.stats.anova import anova_lm\n",
    "\n",
    "results = ols('loanamt ~ married + atotinc + price + apr', data).fit()\n",
    "results.summary()"
   ]
  },
  {
   "cell_type": "code",
   "execution_count": null,
   "metadata": {},
   "outputs": [],
   "source": [
    "# Hypothesis Tests\n",
    "t_test = results.t_test('atotinc = 4000')\n",
    "t_test"
   ]
  },
  {
   "cell_type": "code",
   "execution_count": null,
   "metadata": {},
   "outputs": [],
   "source": [
    "# Generate ANOVA\n",
    "table = anova_lm(results, typ=1) \n",
    "table"
   ]
  },
  {
   "cell_type": "markdown",
   "metadata": {},
   "source": [
    "## Predictive Model 2 - Classification Model\n",
    "Predict whether a borrower will file for bankruptcy using four explantory variables:\n",
    "We will again use four explantory variables: \n",
    "1. Gender (Variable name - male; categorical = 1 if male)\n",
    "2. Total monthly income of the applicant (Variable name - atotinc; continuous)\n",
    "3. Purchase price in thousand (Variable name - price; continuous)\n",
    "4. Mortagage history (Variable name - mortno; categorical = 1 if no  mortgage) "
   ]
  },
  {
   "cell_type": "code",
   "execution_count": null,
   "metadata": {},
   "outputs": [],
   "source": [
    "# review the data\n",
    "data['pubrec'].value_counts()"
   ]
  },
  {
   "cell_type": "code",
   "execution_count": null,
   "metadata": {},
   "outputs": [],
   "source": [
    "import statsmodels.api as sm #for predictive model 2 - categorical dependent varible \n",
    "\n",
    "# setting the predictive model \n",
    "y = data['pubrec']\n",
    "X = data[['male', 'atotinc', 'price', 'mortno']]\n",
    "\n",
    "results = sm.Logit(data['pubrec'],X).fit()\n",
    "results.summary()"
   ]
  },
  {
   "cell_type": "markdown",
   "metadata": {},
   "source": [
    "## No Dependent Variable? Clustering\n",
    "\n",
    "Let's review another modelling method. Here we do not want to predict a characterstic of borrowrs, where as we want to form groups of individuals with similar characterstics. This technqiue is a part of Unsupervised Learning - Clsutering. \n",
    "\n",
    "Keeping things simple, I will use three variables from our data to form groups.  \n",
    "1. Loan amount (Variable name - loanamt; continuous)\n",
    "2. Total monthly income of the applicant (Variable name - atotinc; continuous)\n",
    "3. Purchase price in thousand (Variable name - price; continuous)"
   ]
  },
  {
   "cell_type": "code",
   "execution_count": null,
   "metadata": {},
   "outputs": [],
   "source": [
    "from sklearn.cluster import KMeans\n",
    "from sklearn.utils import check_random_state\n",
    "\n",
    "cluster_data = data[['loanamt', 'atotinc', 'price']]\n",
    "\n",
    "results = KMeans(n_clusters=8, random_state=check_random_state(42)).fit(cluster_data)\n",
    "\n",
    "# List for all cluster labels\n",
    "cluster_labels = pd.DataFrame(results.labels_.astype(int), columns = ['Clusters'])\n",
    "scatter_data = cluster_data.join(cluster_labels, how='inner')\n",
    "scatter_data.head()"
   ]
  },
  {
   "cell_type": "markdown",
   "metadata": {},
   "source": [
    "## Displaying the Results in a 3D plot "
   ]
  },
  {
   "cell_type": "code",
   "execution_count": null,
   "metadata": {},
   "outputs": [],
   "source": [
    "# 3D Scatter plots\n",
    "from mpl_toolkits.mplot3d import Axes3D\n",
    "\n",
    "plt.close('all')\n",
    "fig = plt.figure(figsize=(15, 10))\n",
    "fig.suptitle(\"Clusters of borrowers\", fontsize=16)\n",
    "\n",
    "ax = fig.add_subplot(111, projection='3d')\n",
    "ax.scatter(scatter_data.iloc[:, 0], scatter_data.iloc[:, 1], scatter_data.iloc[:, 2],\n",
    "                     c=scatter_data['Clusters'], cmap='plasma', s=10**1.5)\n",
    "\n",
    "# Managing the aesthetics\n",
    "ax.set_xlabel(data.columns[0], fontsize=14)\n",
    "ax.set_ylabel(data.columns[1], fontsize=14)\n",
    "ax.set_zlabel(data.columns[2], fontsize=14)\n",
    "ax.xaxis.labelpad = 15\n",
    "ax.yaxis.labelpad = 15\n",
    "ax.zaxis.labelpad = 15\n",
    "\n",
    "plt.show()\n",
    "plt.clf() #clear the memory"
   ]
  },
  {
   "cell_type": "code",
   "execution_count": null,
   "metadata": {},
   "outputs": [],
   "source": []
  }
 ],
 "metadata": {
  "celltoolbar": "Raw Cell Format",
  "kernelspec": {
   "display_name": "Python 3",
   "language": "python",
   "name": "python3"
  },
  "language_info": {
   "codemirror_mode": {
    "name": "ipython",
    "version": 3
   },
   "file_extension": ".py",
   "mimetype": "text/x-python",
   "name": "python",
   "nbconvert_exporter": "python",
   "pygments_lexer": "ipython3",
   "version": "3.7.4"
  }
 },
 "nbformat": 4,
 "nbformat_minor": 2
}
